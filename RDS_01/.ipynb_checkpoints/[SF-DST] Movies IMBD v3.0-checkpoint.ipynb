{
 "cells": [
  {
   "cell_type": "markdown",
   "metadata": {},
   "source": [
    "# Импорты и загрузка датасета"
   ]
  },
  {
   "cell_type": "code",
   "execution_count": 1,
   "metadata": {
    "scrolled": true
   },
   "outputs": [
    {
     "name": "stdout",
     "output_type": "stream",
     "text": [
      "1890\n"
     ]
    },
    {
     "data": {
      "text/html": [
       "<div>\n",
       "<style scoped>\n",
       "    .dataframe tbody tr th:only-of-type {\n",
       "        vertical-align: middle;\n",
       "    }\n",
       "\n",
       "    .dataframe tbody tr th {\n",
       "        vertical-align: top;\n",
       "    }\n",
       "\n",
       "    .dataframe thead th {\n",
       "        text-align: right;\n",
       "    }\n",
       "</style>\n",
       "<table border=\"1\" class=\"dataframe\">\n",
       "  <thead>\n",
       "    <tr style=\"text-align: right;\">\n",
       "      <th></th>\n",
       "      <th>imdb_id</th>\n",
       "      <th>popularity</th>\n",
       "      <th>budget</th>\n",
       "      <th>revenue</th>\n",
       "      <th>original_title</th>\n",
       "      <th>cast</th>\n",
       "      <th>director</th>\n",
       "      <th>tagline</th>\n",
       "      <th>overview</th>\n",
       "      <th>runtime</th>\n",
       "      <th>genres</th>\n",
       "      <th>production_companies</th>\n",
       "      <th>release_date</th>\n",
       "      <th>vote_count</th>\n",
       "      <th>vote_average</th>\n",
       "      <th>release_year</th>\n",
       "    </tr>\n",
       "  </thead>\n",
       "  <tbody>\n",
       "    <tr>\n",
       "      <th>0</th>\n",
       "      <td>tt0369610</td>\n",
       "      <td>32.985763</td>\n",
       "      <td>150000000</td>\n",
       "      <td>1513528810</td>\n",
       "      <td>Jurassic World</td>\n",
       "      <td>Chris Pratt|Bryce Dallas Howard|Irrfan Khan|Vi...</td>\n",
       "      <td>Colin Trevorrow</td>\n",
       "      <td>The park is open.</td>\n",
       "      <td>Twenty-two years after the events of Jurassic ...</td>\n",
       "      <td>124</td>\n",
       "      <td>Action|Adventure|Science Fiction|Thriller</td>\n",
       "      <td>Universal Studios|Amblin Entertainment|Legenda...</td>\n",
       "      <td>6/9/2015</td>\n",
       "      <td>5562</td>\n",
       "      <td>6.5</td>\n",
       "      <td>2015</td>\n",
       "    </tr>\n",
       "    <tr>\n",
       "      <th>1</th>\n",
       "      <td>tt1392190</td>\n",
       "      <td>28.419936</td>\n",
       "      <td>150000000</td>\n",
       "      <td>378436354</td>\n",
       "      <td>Mad Max: Fury Road</td>\n",
       "      <td>Tom Hardy|Charlize Theron|Hugh Keays-Byrne|Nic...</td>\n",
       "      <td>George Miller</td>\n",
       "      <td>What a Lovely Day.</td>\n",
       "      <td>An apocalyptic story set in the furthest reach...</td>\n",
       "      <td>120</td>\n",
       "      <td>Action|Adventure|Science Fiction|Thriller</td>\n",
       "      <td>Village Roadshow Pictures|Kennedy Miller Produ...</td>\n",
       "      <td>5/13/2015</td>\n",
       "      <td>6185</td>\n",
       "      <td>7.1</td>\n",
       "      <td>2015</td>\n",
       "    </tr>\n",
       "  </tbody>\n",
       "</table>\n",
       "</div>"
      ],
      "text/plain": [
       "     imdb_id  popularity     budget     revenue      original_title  \\\n",
       "0  tt0369610   32.985763  150000000  1513528810      Jurassic World   \n",
       "1  tt1392190   28.419936  150000000   378436354  Mad Max: Fury Road   \n",
       "\n",
       "                                                cast         director  \\\n",
       "0  Chris Pratt|Bryce Dallas Howard|Irrfan Khan|Vi...  Colin Trevorrow   \n",
       "1  Tom Hardy|Charlize Theron|Hugh Keays-Byrne|Nic...    George Miller   \n",
       "\n",
       "              tagline                                           overview  \\\n",
       "0   The park is open.  Twenty-two years after the events of Jurassic ...   \n",
       "1  What a Lovely Day.  An apocalyptic story set in the furthest reach...   \n",
       "\n",
       "   runtime                                     genres  \\\n",
       "0      124  Action|Adventure|Science Fiction|Thriller   \n",
       "1      120  Action|Adventure|Science Fiction|Thriller   \n",
       "\n",
       "                                production_companies release_date  vote_count  \\\n",
       "0  Universal Studios|Amblin Entertainment|Legenda...     6/9/2015        5562   \n",
       "1  Village Roadshow Pictures|Kennedy Miller Produ...    5/13/2015        6185   \n",
       "\n",
       "   vote_average  release_year  \n",
       "0           6.5          2015  \n",
       "1           7.1          2015  "
      ]
     },
     "execution_count": 1,
     "metadata": {},
     "output_type": "execute_result"
    }
   ],
   "source": [
    "import numpy as np\n",
    "import pandas as pd\n",
    "import seaborn as sns\n",
    "import matplotlib.pyplot as plt\n",
    "import itertools\n",
    "import os\n",
    "from collections import Counter\n",
    "data = pd.read_csv(r\"data_IMBD.csv\")\n",
    "print(len(data))\n",
    "data.head(2)"
   ]
  },
  {
   "cell_type": "markdown",
   "metadata": {},
   "source": [
    "# Предобработка датасета"
   ]
  },
  {
   "cell_type": "code",
   "execution_count": 2,
   "metadata": {},
   "outputs": [
    {
     "data": {
      "text/html": [
       "<div>\n",
       "<style scoped>\n",
       "    .dataframe tbody tr th:only-of-type {\n",
       "        vertical-align: middle;\n",
       "    }\n",
       "\n",
       "    .dataframe tbody tr th {\n",
       "        vertical-align: top;\n",
       "    }\n",
       "\n",
       "    .dataframe thead th {\n",
       "        text-align: right;\n",
       "    }\n",
       "</style>\n",
       "<table border=\"1\" class=\"dataframe\">\n",
       "  <thead>\n",
       "    <tr style=\"text-align: right;\">\n",
       "      <th></th>\n",
       "      <th>imdb_id</th>\n",
       "      <th>popularity</th>\n",
       "      <th>budget</th>\n",
       "      <th>revenue</th>\n",
       "      <th>original_title</th>\n",
       "      <th>cast</th>\n",
       "      <th>director</th>\n",
       "      <th>tagline</th>\n",
       "      <th>overview</th>\n",
       "      <th>runtime</th>\n",
       "      <th>genres</th>\n",
       "      <th>production_companies</th>\n",
       "      <th>release_date</th>\n",
       "      <th>vote_count</th>\n",
       "      <th>vote_average</th>\n",
       "      <th>release_year</th>\n",
       "      <th>profit</th>\n",
       "      <th>release_date_as_date</th>\n",
       "      <th>release_month</th>\n",
       "    </tr>\n",
       "  </thead>\n",
       "  <tbody>\n",
       "    <tr>\n",
       "      <th>0</th>\n",
       "      <td>tt0369610</td>\n",
       "      <td>32.985763</td>\n",
       "      <td>150000000</td>\n",
       "      <td>1513528810</td>\n",
       "      <td>Jurassic World</td>\n",
       "      <td>Chris Pratt|Bryce Dallas Howard|Irrfan Khan|Vi...</td>\n",
       "      <td>Colin Trevorrow</td>\n",
       "      <td>The park is open.</td>\n",
       "      <td>Twenty-two years after the events of Jurassic ...</td>\n",
       "      <td>124</td>\n",
       "      <td>Action|Adventure|Science Fiction|Thriller</td>\n",
       "      <td>Universal Studios|Amblin Entertainment|Legenda...</td>\n",
       "      <td>6/9/2015</td>\n",
       "      <td>5562</td>\n",
       "      <td>6.5</td>\n",
       "      <td>2015</td>\n",
       "      <td>1363528810</td>\n",
       "      <td>2015-06-09</td>\n",
       "      <td>6</td>\n",
       "    </tr>\n",
       "    <tr>\n",
       "      <th>1</th>\n",
       "      <td>tt1392190</td>\n",
       "      <td>28.419936</td>\n",
       "      <td>150000000</td>\n",
       "      <td>378436354</td>\n",
       "      <td>Mad Max: Fury Road</td>\n",
       "      <td>Tom Hardy|Charlize Theron|Hugh Keays-Byrne|Nic...</td>\n",
       "      <td>George Miller</td>\n",
       "      <td>What a Lovely Day.</td>\n",
       "      <td>An apocalyptic story set in the furthest reach...</td>\n",
       "      <td>120</td>\n",
       "      <td>Action|Adventure|Science Fiction|Thriller</td>\n",
       "      <td>Village Roadshow Pictures|Kennedy Miller Produ...</td>\n",
       "      <td>5/13/2015</td>\n",
       "      <td>6185</td>\n",
       "      <td>7.1</td>\n",
       "      <td>2015</td>\n",
       "      <td>228436354</td>\n",
       "      <td>2015-05-13</td>\n",
       "      <td>5</td>\n",
       "    </tr>\n",
       "    <tr>\n",
       "      <th>2</th>\n",
       "      <td>tt2908446</td>\n",
       "      <td>13.112507</td>\n",
       "      <td>110000000</td>\n",
       "      <td>295238201</td>\n",
       "      <td>Insurgent</td>\n",
       "      <td>Shailene Woodley|Theo James|Kate Winslet|Ansel...</td>\n",
       "      <td>Robert Schwentke</td>\n",
       "      <td>One Choice Can Destroy You</td>\n",
       "      <td>Beatrice Prior must confront her inner demons ...</td>\n",
       "      <td>119</td>\n",
       "      <td>Adventure|Science Fiction|Thriller</td>\n",
       "      <td>Summit Entertainment|Mandeville Films|Red Wago...</td>\n",
       "      <td>3/18/2015</td>\n",
       "      <td>2480</td>\n",
       "      <td>6.3</td>\n",
       "      <td>2015</td>\n",
       "      <td>185238201</td>\n",
       "      <td>2015-03-18</td>\n",
       "      <td>3</td>\n",
       "    </tr>\n",
       "  </tbody>\n",
       "</table>\n",
       "</div>"
      ],
      "text/plain": [
       "     imdb_id  popularity     budget     revenue      original_title  \\\n",
       "0  tt0369610   32.985763  150000000  1513528810      Jurassic World   \n",
       "1  tt1392190   28.419936  150000000   378436354  Mad Max: Fury Road   \n",
       "2  tt2908446   13.112507  110000000   295238201           Insurgent   \n",
       "\n",
       "                                                cast          director  \\\n",
       "0  Chris Pratt|Bryce Dallas Howard|Irrfan Khan|Vi...   Colin Trevorrow   \n",
       "1  Tom Hardy|Charlize Theron|Hugh Keays-Byrne|Nic...     George Miller   \n",
       "2  Shailene Woodley|Theo James|Kate Winslet|Ansel...  Robert Schwentke   \n",
       "\n",
       "                      tagline  \\\n",
       "0           The park is open.   \n",
       "1          What a Lovely Day.   \n",
       "2  One Choice Can Destroy You   \n",
       "\n",
       "                                            overview  runtime  \\\n",
       "0  Twenty-two years after the events of Jurassic ...      124   \n",
       "1  An apocalyptic story set in the furthest reach...      120   \n",
       "2  Beatrice Prior must confront her inner demons ...      119   \n",
       "\n",
       "                                      genres  \\\n",
       "0  Action|Adventure|Science Fiction|Thriller   \n",
       "1  Action|Adventure|Science Fiction|Thriller   \n",
       "2         Adventure|Science Fiction|Thriller   \n",
       "\n",
       "                                production_companies release_date  vote_count  \\\n",
       "0  Universal Studios|Amblin Entertainment|Legenda...     6/9/2015        5562   \n",
       "1  Village Roadshow Pictures|Kennedy Miller Produ...    5/13/2015        6185   \n",
       "2  Summit Entertainment|Mandeville Films|Red Wago...    3/18/2015        2480   \n",
       "\n",
       "   vote_average  release_year      profit release_date_as_date  release_month  \n",
       "0           6.5          2015  1363528810           2015-06-09              6  \n",
       "1           7.1          2015   228436354           2015-05-13              5  \n",
       "2           6.3          2015   185238201           2015-03-18              3  "
      ]
     },
     "metadata": {},
     "output_type": "display_data"
    },
    {
     "data": {
      "text/plain": [
       "'data'"
      ]
     },
     "metadata": {},
     "output_type": "display_data"
    },
    {
     "data": {
      "text/plain": [
       "1890"
      ]
     },
     "metadata": {},
     "output_type": "display_data"
    },
    {
     "data": {
      "text/html": [
       "<div>\n",
       "<style scoped>\n",
       "    .dataframe tbody tr th:only-of-type {\n",
       "        vertical-align: middle;\n",
       "    }\n",
       "\n",
       "    .dataframe tbody tr th {\n",
       "        vertical-align: top;\n",
       "    }\n",
       "\n",
       "    .dataframe thead th {\n",
       "        text-align: right;\n",
       "    }\n",
       "</style>\n",
       "<table border=\"1\" class=\"dataframe\">\n",
       "  <thead>\n",
       "    <tr style=\"text-align: right;\">\n",
       "      <th></th>\n",
       "      <th>imdb_id</th>\n",
       "      <th>popularity</th>\n",
       "      <th>budget</th>\n",
       "      <th>revenue</th>\n",
       "      <th>original_title</th>\n",
       "      <th>cast</th>\n",
       "      <th>director</th>\n",
       "      <th>tagline</th>\n",
       "      <th>overview</th>\n",
       "      <th>runtime</th>\n",
       "      <th>genres</th>\n",
       "      <th>production_companies</th>\n",
       "      <th>release_date</th>\n",
       "      <th>vote_count</th>\n",
       "      <th>vote_average</th>\n",
       "      <th>release_year</th>\n",
       "      <th>profit</th>\n",
       "      <th>release_date_as_date</th>\n",
       "      <th>release_month</th>\n",
       "    </tr>\n",
       "  </thead>\n",
       "  <tbody>\n",
       "    <tr>\n",
       "      <th>0</th>\n",
       "      <td>tt0369610</td>\n",
       "      <td>32.985763</td>\n",
       "      <td>150000000</td>\n",
       "      <td>1513528810</td>\n",
       "      <td>Jurassic World</td>\n",
       "      <td>Chris Pratt|Bryce Dallas Howard|Irrfan Khan|Vi...</td>\n",
       "      <td>Colin Trevorrow</td>\n",
       "      <td>The park is open.</td>\n",
       "      <td>Twenty-two years after the events of Jurassic ...</td>\n",
       "      <td>124</td>\n",
       "      <td>Action|Adventure|Science Fiction|Thriller</td>\n",
       "      <td>Universal Studios|Amblin Entertainment|Legenda...</td>\n",
       "      <td>6/9/2015</td>\n",
       "      <td>5562</td>\n",
       "      <td>6.5</td>\n",
       "      <td>2015</td>\n",
       "      <td>1363528810</td>\n",
       "      <td>2015-06-09</td>\n",
       "      <td>6</td>\n",
       "    </tr>\n",
       "    <tr>\n",
       "      <th>1</th>\n",
       "      <td>tt1392190</td>\n",
       "      <td>28.419936</td>\n",
       "      <td>150000000</td>\n",
       "      <td>378436354</td>\n",
       "      <td>Mad Max: Fury Road</td>\n",
       "      <td>Tom Hardy|Charlize Theron|Hugh Keays-Byrne|Nic...</td>\n",
       "      <td>George Miller</td>\n",
       "      <td>What a Lovely Day.</td>\n",
       "      <td>An apocalyptic story set in the furthest reach...</td>\n",
       "      <td>120</td>\n",
       "      <td>Action|Adventure|Science Fiction|Thriller</td>\n",
       "      <td>Village Roadshow Pictures|Kennedy Miller Produ...</td>\n",
       "      <td>5/13/2015</td>\n",
       "      <td>6185</td>\n",
       "      <td>7.1</td>\n",
       "      <td>2015</td>\n",
       "      <td>228436354</td>\n",
       "      <td>2015-05-13</td>\n",
       "      <td>5</td>\n",
       "    </tr>\n",
       "    <tr>\n",
       "      <th>2</th>\n",
       "      <td>tt2908446</td>\n",
       "      <td>13.112507</td>\n",
       "      <td>110000000</td>\n",
       "      <td>295238201</td>\n",
       "      <td>Insurgent</td>\n",
       "      <td>Shailene Woodley|Theo James|Kate Winslet|Ansel...</td>\n",
       "      <td>Robert Schwentke</td>\n",
       "      <td>One Choice Can Destroy You</td>\n",
       "      <td>Beatrice Prior must confront her inner demons ...</td>\n",
       "      <td>119</td>\n",
       "      <td>Adventure|Science Fiction|Thriller</td>\n",
       "      <td>Summit Entertainment|Mandeville Films|Red Wago...</td>\n",
       "      <td>3/18/2015</td>\n",
       "      <td>2480</td>\n",
       "      <td>6.3</td>\n",
       "      <td>2015</td>\n",
       "      <td>185238201</td>\n",
       "      <td>2015-03-18</td>\n",
       "      <td>3</td>\n",
       "    </tr>\n",
       "  </tbody>\n",
       "</table>\n",
       "</div>"
      ],
      "text/plain": [
       "     imdb_id  popularity     budget     revenue      original_title  \\\n",
       "0  tt0369610   32.985763  150000000  1513528810      Jurassic World   \n",
       "1  tt1392190   28.419936  150000000   378436354  Mad Max: Fury Road   \n",
       "2  tt2908446   13.112507  110000000   295238201           Insurgent   \n",
       "\n",
       "                                                cast          director  \\\n",
       "0  Chris Pratt|Bryce Dallas Howard|Irrfan Khan|Vi...   Colin Trevorrow   \n",
       "1  Tom Hardy|Charlize Theron|Hugh Keays-Byrne|Nic...     George Miller   \n",
       "2  Shailene Woodley|Theo James|Kate Winslet|Ansel...  Robert Schwentke   \n",
       "\n",
       "                      tagline  \\\n",
       "0           The park is open.   \n",
       "1          What a Lovely Day.   \n",
       "2  One Choice Can Destroy You   \n",
       "\n",
       "                                            overview  runtime  \\\n",
       "0  Twenty-two years after the events of Jurassic ...      124   \n",
       "1  An apocalyptic story set in the furthest reach...      120   \n",
       "2  Beatrice Prior must confront her inner demons ...      119   \n",
       "\n",
       "                                      genres  \\\n",
       "0  Action|Adventure|Science Fiction|Thriller   \n",
       "1  Action|Adventure|Science Fiction|Thriller   \n",
       "2         Adventure|Science Fiction|Thriller   \n",
       "\n",
       "                                production_companies release_date  vote_count  \\\n",
       "0  Universal Studios|Amblin Entertainment|Legenda...     6/9/2015        5562   \n",
       "1  Village Roadshow Pictures|Kennedy Miller Produ...    5/13/2015        6185   \n",
       "2  Summit Entertainment|Mandeville Films|Red Wago...    3/18/2015        2480   \n",
       "\n",
       "   vote_average  release_year      profit release_date_as_date  release_month  \n",
       "0           6.5          2015  1363528810           2015-06-09              6  \n",
       "1           7.1          2015   228436354           2015-05-13              5  \n",
       "2           6.3          2015   185238201           2015-03-18              3  "
      ]
     },
     "metadata": {},
     "output_type": "display_data"
    },
    {
     "data": {
      "text/plain": [
       "'casts'"
      ]
     },
     "metadata": {},
     "output_type": "display_data"
    },
    {
     "data": {
      "text/plain": [
       "9443"
      ]
     },
     "metadata": {},
     "output_type": "display_data"
    },
    {
     "data": {
      "text/html": [
       "<div>\n",
       "<style scoped>\n",
       "    .dataframe tbody tr th:only-of-type {\n",
       "        vertical-align: middle;\n",
       "    }\n",
       "\n",
       "    .dataframe tbody tr th {\n",
       "        vertical-align: top;\n",
       "    }\n",
       "\n",
       "    .dataframe thead th {\n",
       "        text-align: right;\n",
       "    }\n",
       "</style>\n",
       "<table border=\"1\" class=\"dataframe\">\n",
       "  <thead>\n",
       "    <tr style=\"text-align: right;\">\n",
       "      <th></th>\n",
       "      <th>imdb_id</th>\n",
       "      <th>actor</th>\n",
       "    </tr>\n",
       "  </thead>\n",
       "  <tbody>\n",
       "    <tr>\n",
       "      <th>0</th>\n",
       "      <td>tt0369610</td>\n",
       "      <td>Chris Pratt</td>\n",
       "    </tr>\n",
       "    <tr>\n",
       "      <th>1</th>\n",
       "      <td>tt0369610</td>\n",
       "      <td>Bryce Dallas Howard</td>\n",
       "    </tr>\n",
       "    <tr>\n",
       "      <th>2</th>\n",
       "      <td>tt0369610</td>\n",
       "      <td>Irrfan Khan</td>\n",
       "    </tr>\n",
       "  </tbody>\n",
       "</table>\n",
       "</div>"
      ],
      "text/plain": [
       "     imdb_id                actor\n",
       "0  tt0369610          Chris Pratt\n",
       "1  tt0369610  Bryce Dallas Howard\n",
       "2  tt0369610          Irrfan Khan"
      ]
     },
     "metadata": {},
     "output_type": "display_data"
    },
    {
     "data": {
      "text/plain": [
       "'production_companies'"
      ]
     },
     "metadata": {},
     "output_type": "display_data"
    },
    {
     "data": {
      "text/plain": [
       "6079"
      ]
     },
     "metadata": {},
     "output_type": "display_data"
    },
    {
     "data": {
      "text/html": [
       "<div>\n",
       "<style scoped>\n",
       "    .dataframe tbody tr th:only-of-type {\n",
       "        vertical-align: middle;\n",
       "    }\n",
       "\n",
       "    .dataframe tbody tr th {\n",
       "        vertical-align: top;\n",
       "    }\n",
       "\n",
       "    .dataframe thead th {\n",
       "        text-align: right;\n",
       "    }\n",
       "</style>\n",
       "<table border=\"1\" class=\"dataframe\">\n",
       "  <thead>\n",
       "    <tr style=\"text-align: right;\">\n",
       "      <th></th>\n",
       "      <th>imdb_id</th>\n",
       "      <th>production_company</th>\n",
       "    </tr>\n",
       "  </thead>\n",
       "  <tbody>\n",
       "    <tr>\n",
       "      <th>0</th>\n",
       "      <td>tt0369610</td>\n",
       "      <td>Universal Studios</td>\n",
       "    </tr>\n",
       "    <tr>\n",
       "      <th>1</th>\n",
       "      <td>tt0369610</td>\n",
       "      <td>Amblin Entertainment</td>\n",
       "    </tr>\n",
       "    <tr>\n",
       "      <th>2</th>\n",
       "      <td>tt0369610</td>\n",
       "      <td>Legendary Pictures</td>\n",
       "    </tr>\n",
       "  </tbody>\n",
       "</table>\n",
       "</div>"
      ],
      "text/plain": [
       "     imdb_id    production_company\n",
       "0  tt0369610     Universal Studios\n",
       "1  tt0369610  Amblin Entertainment\n",
       "2  tt0369610    Legendary Pictures"
      ]
     },
     "metadata": {},
     "output_type": "display_data"
    },
    {
     "data": {
      "text/plain": [
       "'genres'"
      ]
     },
     "metadata": {},
     "output_type": "display_data"
    },
    {
     "data": {
      "text/plain": [
       "5112"
      ]
     },
     "metadata": {},
     "output_type": "display_data"
    },
    {
     "data": {
      "text/html": [
       "<div>\n",
       "<style scoped>\n",
       "    .dataframe tbody tr th:only-of-type {\n",
       "        vertical-align: middle;\n",
       "    }\n",
       "\n",
       "    .dataframe tbody tr th {\n",
       "        vertical-align: top;\n",
       "    }\n",
       "\n",
       "    .dataframe thead th {\n",
       "        text-align: right;\n",
       "    }\n",
       "</style>\n",
       "<table border=\"1\" class=\"dataframe\">\n",
       "  <thead>\n",
       "    <tr style=\"text-align: right;\">\n",
       "      <th></th>\n",
       "      <th>imdb_id</th>\n",
       "      <th>genre</th>\n",
       "    </tr>\n",
       "  </thead>\n",
       "  <tbody>\n",
       "    <tr>\n",
       "      <th>0</th>\n",
       "      <td>tt0369610</td>\n",
       "      <td>Action</td>\n",
       "    </tr>\n",
       "    <tr>\n",
       "      <th>1</th>\n",
       "      <td>tt0369610</td>\n",
       "      <td>Adventure</td>\n",
       "    </tr>\n",
       "    <tr>\n",
       "      <th>2</th>\n",
       "      <td>tt0369610</td>\n",
       "      <td>Science Fiction</td>\n",
       "    </tr>\n",
       "  </tbody>\n",
       "</table>\n",
       "</div>"
      ],
      "text/plain": [
       "     imdb_id            genre\n",
       "0  tt0369610           Action\n",
       "1  tt0369610        Adventure\n",
       "2  tt0369610  Science Fiction"
      ]
     },
     "metadata": {},
     "output_type": "display_data"
    },
    {
     "data": {
      "text/plain": [
       "'directors'"
      ]
     },
     "metadata": {},
     "output_type": "display_data"
    },
    {
     "data": {
      "text/plain": [
       "2054"
      ]
     },
     "metadata": {},
     "output_type": "display_data"
    },
    {
     "data": {
      "text/html": [
       "<div>\n",
       "<style scoped>\n",
       "    .dataframe tbody tr th:only-of-type {\n",
       "        vertical-align: middle;\n",
       "    }\n",
       "\n",
       "    .dataframe tbody tr th {\n",
       "        vertical-align: top;\n",
       "    }\n",
       "\n",
       "    .dataframe thead th {\n",
       "        text-align: right;\n",
       "    }\n",
       "</style>\n",
       "<table border=\"1\" class=\"dataframe\">\n",
       "  <thead>\n",
       "    <tr style=\"text-align: right;\">\n",
       "      <th></th>\n",
       "      <th>imdb_id</th>\n",
       "      <th>a_director</th>\n",
       "    </tr>\n",
       "  </thead>\n",
       "  <tbody>\n",
       "    <tr>\n",
       "      <th>0</th>\n",
       "      <td>tt0369610</td>\n",
       "      <td>Colin Trevorrow</td>\n",
       "    </tr>\n",
       "    <tr>\n",
       "      <th>1</th>\n",
       "      <td>tt1392190</td>\n",
       "      <td>George Miller</td>\n",
       "    </tr>\n",
       "    <tr>\n",
       "      <th>2</th>\n",
       "      <td>tt2908446</td>\n",
       "      <td>Robert Schwentke</td>\n",
       "    </tr>\n",
       "  </tbody>\n",
       "</table>\n",
       "</div>"
      ],
      "text/plain": [
       "     imdb_id        a_director\n",
       "0  tt0369610   Colin Trevorrow\n",
       "1  tt1392190     George Miller\n",
       "2  tt2908446  Robert Schwentke"
      ]
     },
     "metadata": {},
     "output_type": "display_data"
    }
   ],
   "source": [
    "answer_ls = []  # создадим список с ответами. сюда будем добавлять ответы по мере прохождения теста\n",
    "\n",
    "\n",
    "#прибыль\n",
    "data['profit'] = data.revenue - data.budget\n",
    "#дата выхода как дата\n",
    "data['release_date_as_date'] = pd.to_datetime(data.release_date)\n",
    "#месяц выхода\n",
    "data['release_month'] = data.release_date_as_date.dt.month\n",
    "display(data.head(3))\n",
    "\n",
    "#подготовка фреймов с \"расщепленными\" столбцами  Version 1\n",
    "#l_cast = []\n",
    "#l_companies = []\n",
    "#l_genres = []\n",
    "#l_directors = []\n",
    "#for x in [(d[1].imdb_id, d[1].cast.split('|'), d[1].production_companies.split('|'), \n",
    "#           d[1].genres.split('|'), d[1].director.split('|')) for d in data.iterrows()]:\n",
    "#    for c in x[1]:\n",
    "#        l_cast.append([x[0], c])\n",
    "#    for c in x[2]:\n",
    "#        l_companies.append([x[0], c])\n",
    "#    for c in x[3]:\n",
    "#        l_genres.append([x[0], c])\n",
    "#    for c in x[4]:\n",
    "#        l_directors.append([x[0], c])\n",
    "#casts = pd.DataFrame(columns=['imdb_id', 'actor'], data=l_cast)\n",
    "#production_companies = pd.DataFrame(columns=['imdb_id', 'production_company'], data=l_companies)\n",
    "#genres = pd.DataFrame(columns=['imdb_id', 'genre'], data=l_genres)\n",
    "#directors = pd.DataFrame(columns=['imdb_id', 'a_director'], data=l_directors)\n",
    "\n",
    "\n",
    "#подготовка фреймов с \"расщепленными\" столбцами  Version 2\n",
    "def split_field(df, field, l):\n",
    "    for s in [s for s in df[field].split('|')]:\n",
    "        #print(s)\n",
    "        l.append([df['imdb_id'], s])\n",
    "lst = []\n",
    "data.apply(lambda x: split_field(x, 'cast', lst), axis=1)\n",
    "casts = pd.DataFrame(columns=['imdb_id', 'actor'], data=lst)\n",
    "lst = []\n",
    "data.apply(lambda x: split_field(x, 'production_companies', lst), axis=1)\n",
    "production_companies = pd.DataFrame(columns=['imdb_id', 'production_company'], data=lst)\n",
    "lst = []\n",
    "data.apply(lambda x: split_field(x, 'genres', lst), axis=1)\n",
    "genres = pd.DataFrame(columns=['imdb_id', 'genre'], data=lst)\n",
    "lst = []\n",
    "data.apply(lambda x: split_field(x, 'director', lst), axis=1)\n",
    "directors = pd.DataFrame(columns=['imdb_id', 'a_director'], data=lst)\n",
    "\n",
    "#обзор сформированных фреймов\n",
    "display('data', len(data), data.head(3))\n",
    "display('casts', len(casts), casts.head(3))\n",
    "display('production_companies', len(production_companies), production_companies.head(3))\n",
    "display('genres', len(genres), genres.head(3))\n",
    "display('directors', len(directors), directors.head(3))"
   ]
  },
  {
   "cell_type": "code",
   "execution_count": 3,
   "metadata": {},
   "outputs": [
    {
     "data": {
      "text/html": [
       "<div>\n",
       "<style scoped>\n",
       "    .dataframe tbody tr th:only-of-type {\n",
       "        vertical-align: middle;\n",
       "    }\n",
       "\n",
       "    .dataframe tbody tr th {\n",
       "        vertical-align: top;\n",
       "    }\n",
       "\n",
       "    .dataframe thead th {\n",
       "        text-align: right;\n",
       "    }\n",
       "</style>\n",
       "<table border=\"1\" class=\"dataframe\">\n",
       "  <thead>\n",
       "    <tr style=\"text-align: right;\">\n",
       "      <th></th>\n",
       "      <th>imdb_id</th>\n",
       "      <th>popularity</th>\n",
       "      <th>budget</th>\n",
       "      <th>revenue</th>\n",
       "      <th>original_title</th>\n",
       "      <th>cast</th>\n",
       "      <th>director</th>\n",
       "      <th>tagline</th>\n",
       "      <th>overview</th>\n",
       "      <th>runtime</th>\n",
       "      <th>genres</th>\n",
       "      <th>production_companies</th>\n",
       "      <th>release_date</th>\n",
       "      <th>vote_count</th>\n",
       "      <th>vote_average</th>\n",
       "      <th>release_year</th>\n",
       "      <th>profit</th>\n",
       "      <th>release_date_as_date</th>\n",
       "      <th>release_month</th>\n",
       "    </tr>\n",
       "  </thead>\n",
       "  <tbody>\n",
       "    <tr>\n",
       "      <th>0</th>\n",
       "      <td>tt0369610</td>\n",
       "      <td>32.985763</td>\n",
       "      <td>150000000</td>\n",
       "      <td>1513528810</td>\n",
       "      <td>Jurassic World</td>\n",
       "      <td>Chris Pratt|Bryce Dallas Howard|Irrfan Khan|Vi...</td>\n",
       "      <td>Colin Trevorrow</td>\n",
       "      <td>The park is open.</td>\n",
       "      <td>Twenty-two years after the events of Jurassic ...</td>\n",
       "      <td>124</td>\n",
       "      <td>Action|Adventure|Science Fiction|Thriller</td>\n",
       "      <td>Universal Studios|Amblin Entertainment|Legenda...</td>\n",
       "      <td>6/9/2015</td>\n",
       "      <td>5562</td>\n",
       "      <td>6.5</td>\n",
       "      <td>2015</td>\n",
       "      <td>1363528810</td>\n",
       "      <td>2015-06-09</td>\n",
       "      <td>6</td>\n",
       "    </tr>\n",
       "    <tr>\n",
       "      <th>1</th>\n",
       "      <td>tt1392190</td>\n",
       "      <td>28.419936</td>\n",
       "      <td>150000000</td>\n",
       "      <td>378436354</td>\n",
       "      <td>Mad Max: Fury Road</td>\n",
       "      <td>Tom Hardy|Charlize Theron|Hugh Keays-Byrne|Nic...</td>\n",
       "      <td>George Miller</td>\n",
       "      <td>What a Lovely Day.</td>\n",
       "      <td>An apocalyptic story set in the furthest reach...</td>\n",
       "      <td>120</td>\n",
       "      <td>Action|Adventure|Science Fiction|Thriller</td>\n",
       "      <td>Village Roadshow Pictures|Kennedy Miller Produ...</td>\n",
       "      <td>5/13/2015</td>\n",
       "      <td>6185</td>\n",
       "      <td>7.1</td>\n",
       "      <td>2015</td>\n",
       "      <td>228436354</td>\n",
       "      <td>2015-05-13</td>\n",
       "      <td>5</td>\n",
       "    </tr>\n",
       "    <tr>\n",
       "      <th>2</th>\n",
       "      <td>tt2908446</td>\n",
       "      <td>13.112507</td>\n",
       "      <td>110000000</td>\n",
       "      <td>295238201</td>\n",
       "      <td>Insurgent</td>\n",
       "      <td>Shailene Woodley|Theo James|Kate Winslet|Ansel...</td>\n",
       "      <td>Robert Schwentke</td>\n",
       "      <td>One Choice Can Destroy You</td>\n",
       "      <td>Beatrice Prior must confront her inner demons ...</td>\n",
       "      <td>119</td>\n",
       "      <td>Adventure|Science Fiction|Thriller</td>\n",
       "      <td>Summit Entertainment|Mandeville Films|Red Wago...</td>\n",
       "      <td>3/18/2015</td>\n",
       "      <td>2480</td>\n",
       "      <td>6.3</td>\n",
       "      <td>2015</td>\n",
       "      <td>185238201</td>\n",
       "      <td>2015-03-18</td>\n",
       "      <td>3</td>\n",
       "    </tr>\n",
       "  </tbody>\n",
       "</table>\n",
       "</div>"
      ],
      "text/plain": [
       "     imdb_id  popularity     budget     revenue      original_title  \\\n",
       "0  tt0369610   32.985763  150000000  1513528810      Jurassic World   \n",
       "1  tt1392190   28.419936  150000000   378436354  Mad Max: Fury Road   \n",
       "2  tt2908446   13.112507  110000000   295238201           Insurgent   \n",
       "\n",
       "                                                cast          director  \\\n",
       "0  Chris Pratt|Bryce Dallas Howard|Irrfan Khan|Vi...   Colin Trevorrow   \n",
       "1  Tom Hardy|Charlize Theron|Hugh Keays-Byrne|Nic...     George Miller   \n",
       "2  Shailene Woodley|Theo James|Kate Winslet|Ansel...  Robert Schwentke   \n",
       "\n",
       "                      tagline  \\\n",
       "0           The park is open.   \n",
       "1          What a Lovely Day.   \n",
       "2  One Choice Can Destroy You   \n",
       "\n",
       "                                            overview  runtime  \\\n",
       "0  Twenty-two years after the events of Jurassic ...      124   \n",
       "1  An apocalyptic story set in the furthest reach...      120   \n",
       "2  Beatrice Prior must confront her inner demons ...      119   \n",
       "\n",
       "                                      genres  \\\n",
       "0  Action|Adventure|Science Fiction|Thriller   \n",
       "1  Action|Adventure|Science Fiction|Thriller   \n",
       "2         Adventure|Science Fiction|Thriller   \n",
       "\n",
       "                                production_companies release_date  vote_count  \\\n",
       "0  Universal Studios|Amblin Entertainment|Legenda...     6/9/2015        5562   \n",
       "1  Village Roadshow Pictures|Kennedy Miller Produ...    5/13/2015        6185   \n",
       "2  Summit Entertainment|Mandeville Films|Red Wago...    3/18/2015        2480   \n",
       "\n",
       "   vote_average  release_year      profit release_date_as_date  release_month  \n",
       "0           6.5          2015  1363528810           2015-06-09              6  \n",
       "1           7.1          2015   228436354           2015-05-13              5  \n",
       "2           6.3          2015   185238201           2015-03-18              3  "
      ]
     },
     "metadata": {},
     "output_type": "display_data"
    },
    {
     "name": "stdout",
     "output_type": "stream",
     "text": [
      "1890 9443 6079 5112 2054\n"
     ]
    },
    {
     "data": {
      "text/html": [
       "<div>\n",
       "<style scoped>\n",
       "    .dataframe tbody tr th:only-of-type {\n",
       "        vertical-align: middle;\n",
       "    }\n",
       "\n",
       "    .dataframe tbody tr th {\n",
       "        vertical-align: top;\n",
       "    }\n",
       "\n",
       "    .dataframe thead th {\n",
       "        text-align: right;\n",
       "    }\n",
       "</style>\n",
       "<table border=\"1\" class=\"dataframe\">\n",
       "  <thead>\n",
       "    <tr style=\"text-align: right;\">\n",
       "      <th></th>\n",
       "      <th>imdb_id</th>\n",
       "      <th>actor</th>\n",
       "    </tr>\n",
       "  </thead>\n",
       "  <tbody>\n",
       "    <tr>\n",
       "      <th>0</th>\n",
       "      <td>tt0369610</td>\n",
       "      <td>Chris Pratt</td>\n",
       "    </tr>\n",
       "    <tr>\n",
       "      <th>1</th>\n",
       "      <td>tt0369610</td>\n",
       "      <td>Bryce Dallas Howard</td>\n",
       "    </tr>\n",
       "    <tr>\n",
       "      <th>2</th>\n",
       "      <td>tt0369610</td>\n",
       "      <td>Irrfan Khan</td>\n",
       "    </tr>\n",
       "  </tbody>\n",
       "</table>\n",
       "</div>"
      ],
      "text/plain": [
       "     imdb_id                actor\n",
       "0  tt0369610          Chris Pratt\n",
       "1  tt0369610  Bryce Dallas Howard\n",
       "2  tt0369610          Irrfan Khan"
      ]
     },
     "metadata": {},
     "output_type": "display_data"
    },
    {
     "data": {
      "text/html": [
       "<div>\n",
       "<style scoped>\n",
       "    .dataframe tbody tr th:only-of-type {\n",
       "        vertical-align: middle;\n",
       "    }\n",
       "\n",
       "    .dataframe tbody tr th {\n",
       "        vertical-align: top;\n",
       "    }\n",
       "\n",
       "    .dataframe thead th {\n",
       "        text-align: right;\n",
       "    }\n",
       "</style>\n",
       "<table border=\"1\" class=\"dataframe\">\n",
       "  <thead>\n",
       "    <tr style=\"text-align: right;\">\n",
       "      <th></th>\n",
       "      <th>imdb_id</th>\n",
       "      <th>production_company</th>\n",
       "    </tr>\n",
       "  </thead>\n",
       "  <tbody>\n",
       "    <tr>\n",
       "      <th>0</th>\n",
       "      <td>tt0369610</td>\n",
       "      <td>Universal Studios</td>\n",
       "    </tr>\n",
       "    <tr>\n",
       "      <th>1</th>\n",
       "      <td>tt0369610</td>\n",
       "      <td>Amblin Entertainment</td>\n",
       "    </tr>\n",
       "    <tr>\n",
       "      <th>2</th>\n",
       "      <td>tt0369610</td>\n",
       "      <td>Legendary Pictures</td>\n",
       "    </tr>\n",
       "  </tbody>\n",
       "</table>\n",
       "</div>"
      ],
      "text/plain": [
       "     imdb_id    production_company\n",
       "0  tt0369610     Universal Studios\n",
       "1  tt0369610  Amblin Entertainment\n",
       "2  tt0369610    Legendary Pictures"
      ]
     },
     "metadata": {},
     "output_type": "display_data"
    },
    {
     "data": {
      "text/html": [
       "<div>\n",
       "<style scoped>\n",
       "    .dataframe tbody tr th:only-of-type {\n",
       "        vertical-align: middle;\n",
       "    }\n",
       "\n",
       "    .dataframe tbody tr th {\n",
       "        vertical-align: top;\n",
       "    }\n",
       "\n",
       "    .dataframe thead th {\n",
       "        text-align: right;\n",
       "    }\n",
       "</style>\n",
       "<table border=\"1\" class=\"dataframe\">\n",
       "  <thead>\n",
       "    <tr style=\"text-align: right;\">\n",
       "      <th></th>\n",
       "      <th>imdb_id</th>\n",
       "      <th>genre</th>\n",
       "    </tr>\n",
       "  </thead>\n",
       "  <tbody>\n",
       "    <tr>\n",
       "      <th>0</th>\n",
       "      <td>tt0369610</td>\n",
       "      <td>Action</td>\n",
       "    </tr>\n",
       "    <tr>\n",
       "      <th>1</th>\n",
       "      <td>tt0369610</td>\n",
       "      <td>Adventure</td>\n",
       "    </tr>\n",
       "    <tr>\n",
       "      <th>2</th>\n",
       "      <td>tt0369610</td>\n",
       "      <td>Science Fiction</td>\n",
       "    </tr>\n",
       "  </tbody>\n",
       "</table>\n",
       "</div>"
      ],
      "text/plain": [
       "     imdb_id            genre\n",
       "0  tt0369610           Action\n",
       "1  tt0369610        Adventure\n",
       "2  tt0369610  Science Fiction"
      ]
     },
     "metadata": {},
     "output_type": "display_data"
    },
    {
     "data": {
      "text/html": [
       "<div>\n",
       "<style scoped>\n",
       "    .dataframe tbody tr th:only-of-type {\n",
       "        vertical-align: middle;\n",
       "    }\n",
       "\n",
       "    .dataframe tbody tr th {\n",
       "        vertical-align: top;\n",
       "    }\n",
       "\n",
       "    .dataframe thead th {\n",
       "        text-align: right;\n",
       "    }\n",
       "</style>\n",
       "<table border=\"1\" class=\"dataframe\">\n",
       "  <thead>\n",
       "    <tr style=\"text-align: right;\">\n",
       "      <th></th>\n",
       "      <th>imdb_id</th>\n",
       "      <th>a_director</th>\n",
       "    </tr>\n",
       "  </thead>\n",
       "  <tbody>\n",
       "    <tr>\n",
       "      <th>0</th>\n",
       "      <td>tt0369610</td>\n",
       "      <td>Colin Trevorrow</td>\n",
       "    </tr>\n",
       "    <tr>\n",
       "      <th>1</th>\n",
       "      <td>tt1392190</td>\n",
       "      <td>George Miller</td>\n",
       "    </tr>\n",
       "    <tr>\n",
       "      <th>2</th>\n",
       "      <td>tt2908446</td>\n",
       "      <td>Robert Schwentke</td>\n",
       "    </tr>\n",
       "  </tbody>\n",
       "</table>\n",
       "</div>"
      ],
      "text/plain": [
       "     imdb_id        a_director\n",
       "0  tt0369610   Colin Trevorrow\n",
       "1  tt1392190     George Miller\n",
       "2  tt2908446  Robert Schwentke"
      ]
     },
     "metadata": {},
     "output_type": "display_data"
    }
   ],
   "source": [
    "answer_ls = []  # создадим список с ответами. сюда будем добавлять ответы по мере прохождения теста\n",
    "# сюда можем вписать создание новых колонок в датасете\n",
    "data['profit'] = data.revenue - data.budget\n",
    "data['release_date_as_date'] = pd.to_datetime(data.release_date)\n",
    "data['release_month'] = data.release_date_as_date.dt.month\n",
    "display(data.head(3))\n",
    "\n",
    "l_cast = []\n",
    "l_companies = []\n",
    "l_genres = []\n",
    "l_directors = []\n",
    "for x in [(d[1].imdb_id, d[1].cast.split('|'), d[1].production_companies.split('|'), \n",
    "           d[1].genres.split('|'), d[1].director.split('|')) for d in data.iterrows()]:\n",
    "    for c in x[1]:\n",
    "        l_cast.append([x[0], c])\n",
    "    for c in x[2]:\n",
    "        l_companies.append([x[0], c])\n",
    "    for c in x[3]:\n",
    "        l_genres.append([x[0], c])\n",
    "    for c in x[4]:\n",
    "        l_directors.append([x[0], c])\n",
    "\n",
    "casts = pd.DataFrame(columns=['imdb_id', 'actor'], data=l_cast)\n",
    "production_companies = pd.DataFrame(columns=['imdb_id', 'production_company'], data=l_companies)\n",
    "genres = pd.DataFrame(columns=['imdb_id', 'genre'], data=l_genres)\n",
    "directors = pd.DataFrame(columns=['imdb_id', 'a_director'], data=l_directors)\n",
    "\n",
    "print(len(data), len(casts), len(production_companies), len(genres), len(directors))\n",
    "display(casts.head(3))\n",
    "display(production_companies.head(3))\n",
    "display(genres.head(3))\n",
    "display(directors.head(3))\n"
   ]
  },
  {
   "cell_type": "code",
   "execution_count": 4,
   "metadata": {},
   "outputs": [
    {
     "name": "stdout",
     "output_type": "stream",
     "text": [
      "['Disney', 'Disney Double Dare You (DDY)', 'Disney Enterprises', 'DisneyToon Studios', 'Walt Disney', 'Walt Disney Animation Australia', 'Walt Disney Animation Canada', 'Walt Disney Animation Studios', 'Walt Disney Feature Animation', 'Walt Disney Pictures', 'Walt Disney Studios Motion Pictures', 'Walt Disney Television Animation']\n"
     ]
    },
    {
     "data": {
      "text/html": [
       "<div>\n",
       "<style scoped>\n",
       "    .dataframe tbody tr th:only-of-type {\n",
       "        vertical-align: middle;\n",
       "    }\n",
       "\n",
       "    .dataframe tbody tr th {\n",
       "        vertical-align: top;\n",
       "    }\n",
       "\n",
       "    .dataframe thead th {\n",
       "        text-align: right;\n",
       "    }\n",
       "</style>\n",
       "<table border=\"1\" class=\"dataframe\">\n",
       "  <thead>\n",
       "    <tr style=\"text-align: right;\">\n",
       "      <th></th>\n",
       "      <th>imdb_id</th>\n",
       "      <th>popularity</th>\n",
       "      <th>budget</th>\n",
       "      <th>revenue</th>\n",
       "      <th>original_title</th>\n",
       "      <th>cast</th>\n",
       "      <th>director</th>\n",
       "      <th>tagline</th>\n",
       "      <th>overview</th>\n",
       "      <th>runtime</th>\n",
       "      <th>genres</th>\n",
       "      <th>production_companies</th>\n",
       "      <th>release_date</th>\n",
       "      <th>vote_count</th>\n",
       "      <th>vote_average</th>\n",
       "      <th>release_year</th>\n",
       "      <th>profit</th>\n",
       "      <th>release_date_as_date</th>\n",
       "      <th>release_month</th>\n",
       "    </tr>\n",
       "  </thead>\n",
       "  <tbody>\n",
       "    <tr>\n",
       "      <th>1088</th>\n",
       "      <td>tt0266543</td>\n",
       "      <td>3.440519</td>\n",
       "      <td>94000000</td>\n",
       "      <td>864625978</td>\n",
       "      <td>Finding Nemo</td>\n",
       "      <td>Albert Brooks|Ellen DeGeneres|Alexander Gould|...</td>\n",
       "      <td>Andrew Stanton|Lee Unkrich</td>\n",
       "      <td>There are 3.7 trillion fish in the ocean, they...</td>\n",
       "      <td>A tale which follows the comedic and eventful ...</td>\n",
       "      <td>100</td>\n",
       "      <td>Animation|Family</td>\n",
       "      <td>Walt Disney Pictures|Pixar Animation Studios|D...</td>\n",
       "      <td>5/30/2003</td>\n",
       "      <td>3692</td>\n",
       "      <td>7.4</td>\n",
       "      <td>2003</td>\n",
       "      <td>770625978</td>\n",
       "      <td>2003-05-30</td>\n",
       "      <td>5</td>\n",
       "    </tr>\n",
       "  </tbody>\n",
       "</table>\n",
       "</div>"
      ],
      "text/plain": [
       "        imdb_id  popularity    budget    revenue original_title  \\\n",
       "1088  tt0266543    3.440519  94000000  864625978   Finding Nemo   \n",
       "\n",
       "                                                   cast  \\\n",
       "1088  Albert Brooks|Ellen DeGeneres|Alexander Gould|...   \n",
       "\n",
       "                        director  \\\n",
       "1088  Andrew Stanton|Lee Unkrich   \n",
       "\n",
       "                                                tagline  \\\n",
       "1088  There are 3.7 trillion fish in the ocean, they...   \n",
       "\n",
       "                                               overview  runtime  \\\n",
       "1088  A tale which follows the comedic and eventful ...      100   \n",
       "\n",
       "                genres                               production_companies  \\\n",
       "1088  Animation|Family  Walt Disney Pictures|Pixar Animation Studios|D...   \n",
       "\n",
       "     release_date  vote_count  vote_average  release_year     profit  \\\n",
       "1088    5/30/2003        3692           7.4          2003  770625978   \n",
       "\n",
       "     release_date_as_date  release_month  \n",
       "1088           2003-05-30              5  "
      ]
     },
     "metadata": {},
     "output_type": "display_data"
    },
    {
     "name": "stdout",
     "output_type": "stream",
     "text": [
      "{'Universal': ['Universal', 'Universal Pictures', 'Universal Studios'], 'Paramount': ['Paramount Pictures'], 'Columbia': ['Columbia Pictures', 'Columbia Pictures Corporation'], 'Warner': ['Warner Bros.', 'Warner Bros. Pictures'], 'Fox': ['20th Century Fox', 'Twentieth Century Fox Film Corporation', 'Twentieth Century Fox'], 'Disney': ['Disney', 'Walt Disney', 'Walt Disney Pictures']}\n"
     ]
    },
    {
     "data": {
      "text/html": [
       "<div>\n",
       "<style scoped>\n",
       "    .dataframe tbody tr th:only-of-type {\n",
       "        vertical-align: middle;\n",
       "    }\n",
       "\n",
       "    .dataframe tbody tr th {\n",
       "        vertical-align: top;\n",
       "    }\n",
       "\n",
       "    .dataframe thead th {\n",
       "        text-align: right;\n",
       "    }\n",
       "</style>\n",
       "<table border=\"1\" class=\"dataframe\">\n",
       "  <thead>\n",
       "    <tr style=\"text-align: right;\">\n",
       "      <th></th>\n",
       "      <th>imdb_id</th>\n",
       "      <th>production_company</th>\n",
       "      <th>production_company_syn</th>\n",
       "    </tr>\n",
       "  </thead>\n",
       "  <tbody>\n",
       "    <tr>\n",
       "      <th>0</th>\n",
       "      <td>tt0369610</td>\n",
       "      <td>Universal Studios</td>\n",
       "      <td>Universal</td>\n",
       "    </tr>\n",
       "    <tr>\n",
       "      <th>1</th>\n",
       "      <td>tt0369610</td>\n",
       "      <td>Amblin Entertainment</td>\n",
       "      <td>Amblin Entertainment</td>\n",
       "    </tr>\n",
       "    <tr>\n",
       "      <th>2</th>\n",
       "      <td>tt0369610</td>\n",
       "      <td>Legendary Pictures</td>\n",
       "      <td>Legendary Pictures</td>\n",
       "    </tr>\n",
       "    <tr>\n",
       "      <th>3</th>\n",
       "      <td>tt0369610</td>\n",
       "      <td>Fuji Television Network</td>\n",
       "      <td>Fuji Television Network</td>\n",
       "    </tr>\n",
       "    <tr>\n",
       "      <th>4</th>\n",
       "      <td>tt0369610</td>\n",
       "      <td>Dentsu</td>\n",
       "      <td>Dentsu</td>\n",
       "    </tr>\n",
       "  </tbody>\n",
       "</table>\n",
       "</div>"
      ],
      "text/plain": [
       "     imdb_id       production_company   production_company_syn\n",
       "0  tt0369610        Universal Studios                Universal\n",
       "1  tt0369610     Amblin Entertainment     Amblin Entertainment\n",
       "2  tt0369610       Legendary Pictures       Legendary Pictures\n",
       "3  tt0369610  Fuji Television Network  Fuji Television Network\n",
       "4  tt0369610                   Dentsu                   Dentsu"
      ]
     },
     "execution_count": 4,
     "metadata": {},
     "output_type": "execute_result"
    }
   ],
   "source": [
    "# ====== Подбор синонимов для имен компаний ==========\n",
    "\n",
    "syn_company = {}\n",
    "\n",
    "#print([c for c in sorted(production_companies.production_company.unique()) if \"Universal\" in c])\n",
    "syn_company['Universal'] = ['Universal',\n",
    "                            'Universal Pictures', 'Universal Studios']\n",
    "# ['Universal Animation Studios', 'Universal Cartoon Studios'\n",
    "# 'Universal CGI', ,'Universal Pictures Corporation',\n",
    "#'Universal Pictures International (UPI)',\n",
    "\n",
    "#print([c for c in sorted(production_companies.production_company.unique()) if \"Paramount\" in c])\n",
    "syn_company['Paramount'] = ['Paramount Pictures']\n",
    "# ['Paramount Animation',\n",
    "# 'Paramount Classics', , 'Paramount Vantage']\n",
    "\n",
    "#print([c for c in sorted(production_companies.production_company.unique()) if \"Columbia\" in c])\n",
    "syn_company['Columbia'] = [\n",
    "    'Columbia Pictures', 'Columbia Pictures Corporation']\n",
    "#'Columbia TriStar',\n",
    "# 'Province of British Columbia Film Incentive BC', 'Province of British Columbia Production Services Tax Credit']\n",
    "\n",
    "#print([c for c in sorted(production_companies.production_company.unique()) if \"Warner\" in c])\n",
    "syn_company['Warner'] = ['Warner Bros.', 'Warner Bros. Pictures']\n",
    "# 'Warner Bros. Animation', 'Warner Bros. Interactive Entertainment', 'Warner Independent Pictures (WIP)']\n",
    "\n",
    "#print([c for c in sorted(production_companies.production_company.unique()) if \"Fox\" in c])\n",
    "syn_company['Fox'] = ['20th Century Fox',\n",
    "                      'Twentieth Century Fox Film Corporation', 'Twentieth Century Fox']\n",
    "#'Fox Searchlight Pictures','Fox Atomic', '20th Century Fox Home Entertainment'\n",
    "#'Fox 2000 Pictures', 'Fox Animation Studios',  'Fox International Productions', 'Fox Searchlight',\n",
    "#'Foxtor Productions', 'Twentieth Century Fox Animation'\n",
    "\n",
    "print([c for c in sorted(production_companies.production_company.unique()) if \"Disney\" in c])\n",
    "syn_company['Disney'] = ['Disney', 'Walt Disney', 'Walt Disney Pictures']\n",
    "\n",
    "#'Disney Double Dare You (DDY)', 'Disney Enterprises', 'DisneyToon Studios', \n",
    "#'Walt Disney Animation Australia', 'Walt Disney Animation Canada', 'Walt Disney Animation Studios', \n",
    "#'Walt Disney Feature Animation',  'Walt Disney Studios Motion Pictures', 'Walt Disney Television Animation']\n",
    "                         \n",
    "display(data[data.production_companies.str.contains('Disney Enterprises')].head(10))\n",
    "\n",
    "print(syn_company)\n",
    "\n",
    "def find_syn(orig_name):\n",
    "    for k, v in syn_company.items():\n",
    "        if orig_name in v:\n",
    "            return k\n",
    "    return orig_name\n",
    "\n",
    "\n",
    "production_companies['production_company_syn'] = production_companies.apply(\n",
    "    lambda x: find_syn(x['production_company']), axis=1)\n",
    "production_companies.head(5)"
   ]
  },
  {
   "cell_type": "markdown",
   "metadata": {
    "cell_style": "center"
   },
   "source": [
    "# + 1. У какого фильма из списка самый большой бюджет?\n",
    "Варианты ответов:\n",
    "1. The Dark Knight Rises (tt1345836)\n",
    "2. Spider-Man 3 (tt0413300)\n",
    "3. Avengers: Age of Ultron (tt2395427)\n",
    "4. The Warrior's Way\t(tt1032751)\n",
    "5. Pirates of the Caribbean: On Stranger Tides (tt1298650)"
   ]
  },
  {
   "cell_type": "code",
   "execution_count": 5,
   "metadata": {},
   "outputs": [
    {
     "data": {
      "text/html": [
       "<div>\n",
       "<style scoped>\n",
       "    .dataframe tbody tr th:only-of-type {\n",
       "        vertical-align: middle;\n",
       "    }\n",
       "\n",
       "    .dataframe tbody tr th {\n",
       "        vertical-align: top;\n",
       "    }\n",
       "\n",
       "    .dataframe thead th {\n",
       "        text-align: right;\n",
       "    }\n",
       "</style>\n",
       "<table border=\"1\" class=\"dataframe\">\n",
       "  <thead>\n",
       "    <tr style=\"text-align: right;\">\n",
       "      <th></th>\n",
       "      <th>original_title</th>\n",
       "      <th>budget</th>\n",
       "      <th>imdb_id</th>\n",
       "    </tr>\n",
       "  </thead>\n",
       "  <tbody>\n",
       "    <tr>\n",
       "      <th>491</th>\n",
       "      <td>The Warrior's Way</td>\n",
       "      <td>425000000</td>\n",
       "      <td>tt1032751</td>\n",
       "    </tr>\n",
       "  </tbody>\n",
       "</table>\n",
       "</div>"
      ],
      "text/plain": [
       "        original_title     budget    imdb_id\n",
       "491  The Warrior's Way  425000000  tt1032751"
      ]
     },
     "metadata": {},
     "output_type": "display_data"
    }
   ],
   "source": [
    "display(data[data.budget == data.budget.max()][['original_title', 'budget', 'imdb_id']])\n",
    "\n",
    "# тут вводим ваш ответ и добавлем в его список ответов (сейчас для примера стоит \"1\")\n",
    "answer_ls.append(4)"
   ]
  },
  {
   "cell_type": "markdown",
   "metadata": {},
   "source": [
    "# +2. Какой из фильмов самый длительный (в минутах)\n",
    "1. The Lord of the Rings: The Return of the King\t(tt0167260)\n",
    "2. Gods and Generals\t(tt0279111)\n",
    "3. King Kong\t(tt0360717)\n",
    "4. Pearl Harbor\t(tt0213149)\n",
    "5. Alexander\t(tt0346491)"
   ]
  },
  {
   "cell_type": "code",
   "execution_count": 6,
   "metadata": {},
   "outputs": [
    {
     "data": {
      "text/html": [
       "<div>\n",
       "<style scoped>\n",
       "    .dataframe tbody tr th:only-of-type {\n",
       "        vertical-align: middle;\n",
       "    }\n",
       "\n",
       "    .dataframe tbody tr th {\n",
       "        vertical-align: top;\n",
       "    }\n",
       "\n",
       "    .dataframe thead th {\n",
       "        text-align: right;\n",
       "    }\n",
       "</style>\n",
       "<table border=\"1\" class=\"dataframe\">\n",
       "  <thead>\n",
       "    <tr style=\"text-align: right;\">\n",
       "      <th></th>\n",
       "      <th>original_title</th>\n",
       "      <th>runtime</th>\n",
       "      <th>imdb_id</th>\n",
       "    </tr>\n",
       "  </thead>\n",
       "  <tbody>\n",
       "    <tr>\n",
       "      <th>1158</th>\n",
       "      <td>Gods and Generals</td>\n",
       "      <td>214</td>\n",
       "      <td>tt0279111</td>\n",
       "    </tr>\n",
       "  </tbody>\n",
       "</table>\n",
       "</div>"
      ],
      "text/plain": [
       "         original_title  runtime    imdb_id\n",
       "1158  Gods and Generals      214  tt0279111"
      ]
     },
     "metadata": {},
     "output_type": "display_data"
    }
   ],
   "source": [
    "display(data[data.runtime == data.runtime.max()][['original_title', 'runtime', 'imdb_id']])\n",
    "\n",
    "answer_ls.append(2)"
   ]
  },
  {
   "cell_type": "markdown",
   "metadata": {},
   "source": [
    "# + 3. Какой из фильмов самый короткий (в минутах)\n",
    "Варианты ответов:\n",
    "\n",
    "1. Home on the Range\ttt0299172\n",
    "2. The Jungle Book 2\ttt0283426\n",
    "3. Winnie the Pooh\ttt1449283\n",
    "4. Corpse Bride\ttt0121164\n",
    "5. Hoodwinked!\ttt0443536"
   ]
  },
  {
   "cell_type": "code",
   "execution_count": 7,
   "metadata": {},
   "outputs": [
    {
     "data": {
      "text/html": [
       "<div>\n",
       "<style scoped>\n",
       "    .dataframe tbody tr th:only-of-type {\n",
       "        vertical-align: middle;\n",
       "    }\n",
       "\n",
       "    .dataframe tbody tr th {\n",
       "        vertical-align: top;\n",
       "    }\n",
       "\n",
       "    .dataframe thead th {\n",
       "        text-align: right;\n",
       "    }\n",
       "</style>\n",
       "<table border=\"1\" class=\"dataframe\">\n",
       "  <thead>\n",
       "    <tr style=\"text-align: right;\">\n",
       "      <th></th>\n",
       "      <th>original_title</th>\n",
       "      <th>runtime</th>\n",
       "      <th>imdb_id</th>\n",
       "    </tr>\n",
       "  </thead>\n",
       "  <tbody>\n",
       "    <tr>\n",
       "      <th>769</th>\n",
       "      <td>Winnie the Pooh</td>\n",
       "      <td>63</td>\n",
       "      <td>tt1449283</td>\n",
       "    </tr>\n",
       "  </tbody>\n",
       "</table>\n",
       "</div>"
      ],
      "text/plain": [
       "      original_title  runtime    imdb_id\n",
       "769  Winnie the Pooh       63  tt1449283"
      ]
     },
     "metadata": {},
     "output_type": "display_data"
    }
   ],
   "source": [
    "display(data[data.runtime == data.runtime.min()][['original_title', 'runtime', 'imdb_id']])\n",
    "\n",
    "answer_ls.append(3)"
   ]
  },
  {
   "cell_type": "markdown",
   "metadata": {},
   "source": [
    "# + 4. Средняя длительность фильма?\n",
    "\n",
    "Варианты ответов:\n",
    "1. 115\n",
    "2. 110\n",
    "3. 105\n",
    "4. 120\n",
    "5. 100\n"
   ]
  },
  {
   "cell_type": "code",
   "execution_count": 8,
   "metadata": {},
   "outputs": [
    {
     "name": "stdout",
     "output_type": "stream",
     "text": [
      "110.0\n"
     ]
    }
   ],
   "source": [
    "print(round(data.runtime.mean(),0))\n",
    "\n",
    "answer_ls.append(2)"
   ]
  },
  {
   "cell_type": "markdown",
   "metadata": {},
   "source": [
    "# + 5. Средняя длительность фильма по медиане?\n",
    "Варианты ответов:\n",
    "1. 106\n",
    "2. 112\n",
    "3. 101\n",
    "4. 120\n",
    "5. 115\n",
    "\n",
    "\n"
   ]
  },
  {
   "cell_type": "code",
   "execution_count": 9,
   "metadata": {},
   "outputs": [
    {
     "name": "stdout",
     "output_type": "stream",
     "text": [
      "106.0\n"
     ]
    }
   ],
   "source": [
    "print(round(data.runtime.median(),0))\n",
    "\n",
    "answer_ls.append(1)"
   ]
  },
  {
   "cell_type": "markdown",
   "metadata": {},
   "source": [
    "# + 6. Какой самый прибыльный фильм?\n",
    "Варианты ответов:\n",
    "1. The Avengers\ttt0848228\n",
    "2. Minions\ttt2293640\n",
    "3. Star Wars: The Force Awakens\ttt2488496\n",
    "4. Furious 7\ttt2820852\n",
    "5. Avatar\ttt0499549"
   ]
  },
  {
   "cell_type": "code",
   "execution_count": 10,
   "metadata": {},
   "outputs": [
    {
     "data": {
      "text/html": [
       "<div>\n",
       "<style scoped>\n",
       "    .dataframe tbody tr th:only-of-type {\n",
       "        vertical-align: middle;\n",
       "    }\n",
       "\n",
       "    .dataframe tbody tr th {\n",
       "        vertical-align: top;\n",
       "    }\n",
       "\n",
       "    .dataframe thead th {\n",
       "        text-align: right;\n",
       "    }\n",
       "</style>\n",
       "<table border=\"1\" class=\"dataframe\">\n",
       "  <thead>\n",
       "    <tr style=\"text-align: right;\">\n",
       "      <th></th>\n",
       "      <th>original_title</th>\n",
       "      <th>profit</th>\n",
       "      <th>imdb_id</th>\n",
       "    </tr>\n",
       "  </thead>\n",
       "  <tbody>\n",
       "    <tr>\n",
       "      <th>239</th>\n",
       "      <td>Avatar</td>\n",
       "      <td>2544505847</td>\n",
       "      <td>tt0499549</td>\n",
       "    </tr>\n",
       "  </tbody>\n",
       "</table>\n",
       "</div>"
      ],
      "text/plain": [
       "    original_title      profit    imdb_id\n",
       "239         Avatar  2544505847  tt0499549"
      ]
     },
     "metadata": {},
     "output_type": "display_data"
    }
   ],
   "source": [
    "#data['profit'] = data.revenue - data.budget\n",
    "display(data[data.profit == data.profit.max()][['original_title', 'profit', 'imdb_id']])\n",
    "\n",
    "answer_ls.append(5)"
   ]
  },
  {
   "cell_type": "markdown",
   "metadata": {},
   "source": [
    "# + 7. Какой фильм самый убыточный?\n",
    "Варианты ответов:\n",
    "1. Supernova tt0134983\n",
    "2. The Warrior's Way tt1032751\n",
    "3. Flushed Away\ttt0424095\n",
    "4. The Adventures of Pluto Nash\ttt0180052\n",
    "5. The Lone Ranger\ttt1210819"
   ]
  },
  {
   "cell_type": "code",
   "execution_count": 11,
   "metadata": {},
   "outputs": [
    {
     "data": {
      "text/html": [
       "<div>\n",
       "<style scoped>\n",
       "    .dataframe tbody tr th:only-of-type {\n",
       "        vertical-align: middle;\n",
       "    }\n",
       "\n",
       "    .dataframe tbody tr th {\n",
       "        vertical-align: top;\n",
       "    }\n",
       "\n",
       "    .dataframe thead th {\n",
       "        text-align: right;\n",
       "    }\n",
       "</style>\n",
       "<table border=\"1\" class=\"dataframe\">\n",
       "  <thead>\n",
       "    <tr style=\"text-align: right;\">\n",
       "      <th></th>\n",
       "      <th>original_title</th>\n",
       "      <th>profit</th>\n",
       "      <th>imdb_id</th>\n",
       "    </tr>\n",
       "  </thead>\n",
       "  <tbody>\n",
       "    <tr>\n",
       "      <th>491</th>\n",
       "      <td>The Warrior's Way</td>\n",
       "      <td>-413912431</td>\n",
       "      <td>tt1032751</td>\n",
       "    </tr>\n",
       "  </tbody>\n",
       "</table>\n",
       "</div>"
      ],
      "text/plain": [
       "        original_title     profit    imdb_id\n",
       "491  The Warrior's Way -413912431  tt1032751"
      ]
     },
     "metadata": {},
     "output_type": "display_data"
    }
   ],
   "source": [
    "display(data[data.profit == data.profit.min()][['original_title', 'profit', 'imdb_id']])\n",
    "\n",
    "answer_ls.append(2)"
   ]
  },
  {
   "cell_type": "markdown",
   "metadata": {},
   "source": [
    "# + 8. Сколько всего фильмов в прибыли?\n",
    "Варианты ответов:\n",
    "1. 1478\n",
    "2. 1520\n",
    "3. 1241\n",
    "4. 1135\n",
    "5. 1398\n"
   ]
  },
  {
   "cell_type": "code",
   "execution_count": 12,
   "metadata": {},
   "outputs": [
    {
     "name": "stdout",
     "output_type": "stream",
     "text": [
      "1478\n"
     ]
    }
   ],
   "source": [
    "print(len(data[data.profit > 0]))\n",
    "\n",
    "answer_ls.append(1)"
   ]
  },
  {
   "cell_type": "markdown",
   "metadata": {},
   "source": [
    "# + 9. Самый прибыльный фильм в 2008 году?\n",
    "Варианты ответов:\n",
    "1. Madagascar: Escape 2 Africa\ttt0479952\n",
    "2. Iron Man\ttt0371746\n",
    "3. Kung Fu Panda\ttt0441773\n",
    "4. The Dark Knight\ttt0468569\n",
    "5. Mamma Mia!\ttt0795421"
   ]
  },
  {
   "cell_type": "code",
   "execution_count": 13,
   "metadata": {},
   "outputs": [
    {
     "data": {
      "text/html": [
       "<div>\n",
       "<style scoped>\n",
       "    .dataframe tbody tr th:only-of-type {\n",
       "        vertical-align: middle;\n",
       "    }\n",
       "\n",
       "    .dataframe tbody tr th {\n",
       "        vertical-align: top;\n",
       "    }\n",
       "\n",
       "    .dataframe thead th {\n",
       "        text-align: right;\n",
       "    }\n",
       "</style>\n",
       "<table border=\"1\" class=\"dataframe\">\n",
       "  <thead>\n",
       "    <tr style=\"text-align: right;\">\n",
       "      <th></th>\n",
       "      <th>original_title</th>\n",
       "      <th>profit</th>\n",
       "      <th>release_year</th>\n",
       "      <th>imdb_id</th>\n",
       "    </tr>\n",
       "  </thead>\n",
       "  <tbody>\n",
       "    <tr>\n",
       "      <th>600</th>\n",
       "      <td>The Dark Knight</td>\n",
       "      <td>816921825</td>\n",
       "      <td>2008</td>\n",
       "      <td>tt0468569</td>\n",
       "    </tr>\n",
       "  </tbody>\n",
       "</table>\n",
       "</div>"
      ],
      "text/plain": [
       "      original_title     profit  release_year    imdb_id\n",
       "600  The Dark Knight  816921825          2008  tt0468569"
      ]
     },
     "metadata": {},
     "output_type": "display_data"
    }
   ],
   "source": [
    "display(data[data.release_year == 2008].sort_values('profit', ascending=False).head(\n",
    "    1)[['original_title', 'profit', 'release_year', 'imdb_id']])\n",
    "\n",
    "answer_ls.append(4)"
   ]
  },
  {
   "cell_type": "markdown",
   "metadata": {},
   "source": [
    "# + 10. Самый убыточный фильм за период с 2012 по 2014 (включительно)?\n",
    "Варианты ответов:\n",
    "1. Winter's Tale\ttt1837709\n",
    "2. Stolen\ttt1656186\n",
    "3. Broken City\ttt1235522\n",
    "4. Upside Down\ttt1374992\n",
    "5. The Lone Ranger\ttt1210819\n"
   ]
  },
  {
   "cell_type": "code",
   "execution_count": 14,
   "metadata": {},
   "outputs": [
    {
     "data": {
      "text/html": [
       "<div>\n",
       "<style scoped>\n",
       "    .dataframe tbody tr th:only-of-type {\n",
       "        vertical-align: middle;\n",
       "    }\n",
       "\n",
       "    .dataframe tbody tr th {\n",
       "        vertical-align: top;\n",
       "    }\n",
       "\n",
       "    .dataframe thead th {\n",
       "        text-align: right;\n",
       "    }\n",
       "</style>\n",
       "<table border=\"1\" class=\"dataframe\">\n",
       "  <thead>\n",
       "    <tr style=\"text-align: right;\">\n",
       "      <th></th>\n",
       "      <th>original_title</th>\n",
       "      <th>profit</th>\n",
       "      <th>release_year</th>\n",
       "      <th>imdb_id</th>\n",
       "    </tr>\n",
       "  </thead>\n",
       "  <tbody>\n",
       "    <tr>\n",
       "      <th>1246</th>\n",
       "      <td>The Lone Ranger</td>\n",
       "      <td>-165710090</td>\n",
       "      <td>2013</td>\n",
       "      <td>tt1210819</td>\n",
       "    </tr>\n",
       "  </tbody>\n",
       "</table>\n",
       "</div>"
      ],
      "text/plain": [
       "       original_title     profit  release_year    imdb_id\n",
       "1246  The Lone Ranger -165710090          2013  tt1210819"
      ]
     },
     "metadata": {},
     "output_type": "display_data"
    }
   ],
   "source": [
    "display(data[(data.release_year >= 2012) & (data.release_year <= 2014)].sort_values(\n",
    "    'profit', ascending=True).head(1)[['original_title', 'profit', 'release_year', 'imdb_id']])\n",
    "\n",
    "answer_ls.append(5)"
   ]
  },
  {
   "cell_type": "markdown",
   "metadata": {},
   "source": [
    "# +/- 11. Какого жанра фильмов больше всего?\n",
    "Варианты ответов:\n",
    "1. Action\n",
    "2. Adventure\n",
    "3. Drama\n",
    "4. Comedy\n",
    "5. Thriller"
   ]
  },
  {
   "cell_type": "code",
   "execution_count": 15,
   "metadata": {},
   "outputs": [
    {
     "name": "stdout",
     "output_type": "stream",
     "text": [
      "[('Drama', 782)]\n"
     ]
    },
    {
     "data": {
      "text/plain": [
       "genre\n",
       "Drama       782\n",
       "Comedy      683\n",
       "Thriller    597\n",
       "Name: imdb_id, dtype: int64"
      ]
     },
     "metadata": {},
     "output_type": "display_data"
    }
   ],
   "source": [
    "# v1\n",
    "c = Counter()\n",
    "for g in itertools.chain.from_iterable(data.genres.str.split('|')):\n",
    "    c[g] += 1\n",
    "print(c.most_common(1))\n",
    "\n",
    "# v2\n",
    "display(genres.groupby('genre')['imdb_id'].count().sort_values(ascending=False).head(3))\n",
    "\n",
    "\n",
    "answer_ls.append(3)"
   ]
  },
  {
   "cell_type": "markdown",
   "metadata": {},
   "source": [
    "# + 12. Какого жанра среди прибыльных фильмов больше всего?\n",
    "Варианты ответов:\n",
    "1. Drama\n",
    "2. Comedy\n",
    "3. Action\n",
    "4. Thriller\n",
    "5. Adventure"
   ]
  },
  {
   "cell_type": "code",
   "execution_count": 16,
   "metadata": {},
   "outputs": [
    {
     "name": "stdout",
     "output_type": "stream",
     "text": [
      "[('Drama', 560)]\n"
     ]
    },
    {
     "data": {
      "text/plain": [
       "genre\n",
       "Drama       560\n",
       "Comedy      551\n",
       "Thriller    446\n",
       "Name: imdb_id, dtype: int64"
      ]
     },
     "metadata": {},
     "output_type": "display_data"
    }
   ],
   "source": [
    "# v1\n",
    "c = Counter()\n",
    "for g in itertools.chain.from_iterable(data[data.profit > 0].genres.str.split('|')):\n",
    "    c[g] += 1\n",
    "print(c.most_common(1))\n",
    "\n",
    "# v2\n",
    "display(genres.merge(data[data.profit > 0], on='imdb_id', how='inner').groupby(\n",
    "    'genre')['imdb_id'].count().sort_values(ascending=False).head(3))\n",
    "\n",
    "answer_ls.append(1)"
   ]
  },
  {
   "cell_type": "markdown",
   "metadata": {},
   "source": [
    "# + 13. Кто из режиссеров снял больше всего фильмов?\n",
    "Варианты ответов:\n",
    "1. Steven Spielberg\n",
    "2. Ridley Scott \n",
    "3. Steven Soderbergh\n",
    "4. Christopher Nolan\n",
    "5. Clint Eastwood"
   ]
  },
  {
   "cell_type": "code",
   "execution_count": 17,
   "metadata": {},
   "outputs": [
    {
     "data": {
      "text/plain": [
       "director\n",
       "Steven Soderbergh    13\n",
       "Ridley Scott         12\n",
       "Clint Eastwood       12\n",
       "Name: imdb_id, dtype: int64"
      ]
     },
     "metadata": {},
     "output_type": "display_data"
    },
    {
     "data": {
      "text/plain": [
       "a_director\n",
       "Steven Soderbergh    13\n",
       "Ridley Scott         12\n",
       "Clint Eastwood       12\n",
       "Name: imdb_id, dtype: int64"
      ]
     },
     "metadata": {},
     "output_type": "display_data"
    },
    {
     "name": "stdout",
     "output_type": "stream",
     "text": [
      "[('Steven Soderbergh', 13)]\n"
     ]
    }
   ],
   "source": [
    "#v1 Не обрабатывает множественные значения в director\n",
    "display(data.groupby(['director'])['imdb_id'].count().sort_values(ascending = False).head(3))\n",
    "\n",
    "#v2\n",
    "display(directors.groupby('a_director')['imdb_id'].count().sort_values(ascending=False).head(3))\n",
    "\n",
    "#v3\n",
    "c = Counter()\n",
    "for g in itertools.chain.from_iterable(data.director.str.split('|')):\n",
    "    c[g] += 1\n",
    "print(c.most_common(1))\n",
    "\n",
    "answer_ls.append(3)"
   ]
  },
  {
   "cell_type": "markdown",
   "metadata": {},
   "source": [
    "# + 14. Кто из режиссеров снял больше всего Прибыльных фильмов?\n",
    "Варианты ответов:\n",
    "1. Steven Soderbergh\n",
    "2. Clint Eastwood\n",
    "3. Steven Spielberg\n",
    "4. Ridley Scott\n",
    "5. Christopher Nolan"
   ]
  },
  {
   "cell_type": "code",
   "execution_count": 18,
   "metadata": {},
   "outputs": [
    {
     "data": {
      "text/plain": [
       "director\n",
       "Ridley Scott         12\n",
       "Steven Spielberg     10\n",
       "Steven Soderbergh    10\n",
       "Name: imdb_id, dtype: int64"
      ]
     },
     "metadata": {},
     "output_type": "display_data"
    },
    {
     "data": {
      "text/plain": [
       "a_director\n",
       "Ridley Scott        12\n",
       "Clint Eastwood      10\n",
       "Steven Spielberg    10\n",
       "Name: imdb_id, dtype: int64"
      ]
     },
     "metadata": {},
     "output_type": "display_data"
    },
    {
     "name": "stdout",
     "output_type": "stream",
     "text": [
      "[('Ridley Scott', 12)]\n"
     ]
    }
   ],
   "source": [
    "#v1 Не обрабатывает множественные значения в director\n",
    "display(data[data.profit > 0].groupby(['director'])['imdb_id'].count().sort_values(ascending = False).head(3))\n",
    "\n",
    "#v2\n",
    "display(directors.merge(data[data.profit > 0], on='imdb_id', how='inner').groupby(\n",
    "    'a_director')['imdb_id'].count().sort_values(ascending=False).head(3))\n",
    "\n",
    "#v3\n",
    "c = Counter()\n",
    "for g in itertools.chain.from_iterable(data[data.profit > 0].director.str.split('|')):\n",
    "    c[g] += 1\n",
    "print(c.most_common(1))\n",
    "\n",
    "answer_ls.append(4)"
   ]
  },
  {
   "cell_type": "markdown",
   "metadata": {},
   "source": [
    "# + 15. Кто из режиссеров принес больше всего прибыли?\n",
    "Варианты ответов:\n",
    "1. Steven Spielberg\n",
    "2. Christopher Nolan\n",
    "3. David Yates\n",
    "4. James Cameron\n",
    "5. Peter Jackson\n"
   ]
  },
  {
   "cell_type": "code",
   "execution_count": 19,
   "metadata": {},
   "outputs": [
    {
     "data": {
      "text/plain": [
       "a_director\n",
       "Peter Jackson        5202593685\n",
       "David Yates          3379295625\n",
       "Christopher Nolan    3162548502\n",
       "Name: profit, dtype: int64"
      ]
     },
     "metadata": {},
     "output_type": "display_data"
    },
    {
     "data": {
      "text/html": [
       "<div>\n",
       "<style scoped>\n",
       "    .dataframe tbody tr th:only-of-type {\n",
       "        vertical-align: middle;\n",
       "    }\n",
       "\n",
       "    .dataframe tbody tr th {\n",
       "        vertical-align: top;\n",
       "    }\n",
       "\n",
       "    .dataframe thead th {\n",
       "        text-align: right;\n",
       "    }\n",
       "</style>\n",
       "<table border=\"1\" class=\"dataframe\">\n",
       "  <thead>\n",
       "    <tr style=\"text-align: right;\">\n",
       "      <th></th>\n",
       "      <th>imdb_id</th>\n",
       "      <th>director</th>\n",
       "      <th>profit</th>\n",
       "    </tr>\n",
       "  </thead>\n",
       "  <tbody>\n",
       "    <tr>\n",
       "      <th>0</th>\n",
       "      <td>tt0369610</td>\n",
       "      <td>Colin Trevorrow</td>\n",
       "      <td>1363528810</td>\n",
       "    </tr>\n",
       "    <tr>\n",
       "      <th>1</th>\n",
       "      <td>tt1392190</td>\n",
       "      <td>George Miller</td>\n",
       "      <td>228436354</td>\n",
       "    </tr>\n",
       "    <tr>\n",
       "      <th>2</th>\n",
       "      <td>tt2908446</td>\n",
       "      <td>Robert Schwentke</td>\n",
       "      <td>185238201</td>\n",
       "    </tr>\n",
       "    <tr>\n",
       "      <th>3</th>\n",
       "      <td>tt2488496</td>\n",
       "      <td>J.J. Abrams</td>\n",
       "      <td>1868178225</td>\n",
       "    </tr>\n",
       "    <tr>\n",
       "      <th>4</th>\n",
       "      <td>tt2820852</td>\n",
       "      <td>James Wan</td>\n",
       "      <td>1316249360</td>\n",
       "    </tr>\n",
       "  </tbody>\n",
       "</table>\n",
       "</div>"
      ],
      "text/plain": [
       "     imdb_id          director      profit\n",
       "0  tt0369610   Colin Trevorrow  1363528810\n",
       "1  tt1392190     George Miller   228436354\n",
       "2  tt2908446  Robert Schwentke   185238201\n",
       "3  tt2488496       J.J. Abrams  1868178225\n",
       "4  tt2820852         James Wan  1316249360"
      ]
     },
     "metadata": {},
     "output_type": "display_data"
    },
    {
     "data": {
      "text/html": [
       "<div>\n",
       "<style scoped>\n",
       "    .dataframe tbody tr th:only-of-type {\n",
       "        vertical-align: middle;\n",
       "    }\n",
       "\n",
       "    .dataframe tbody tr th {\n",
       "        vertical-align: top;\n",
       "    }\n",
       "\n",
       "    .dataframe thead th {\n",
       "        text-align: right;\n",
       "    }\n",
       "</style>\n",
       "<table border=\"1\" class=\"dataframe\">\n",
       "  <thead>\n",
       "    <tr style=\"text-align: right;\">\n",
       "      <th></th>\n",
       "      <th>imdb_id</th>\n",
       "      <th>director</th>\n",
       "      <th>profit</th>\n",
       "      <th>director_count</th>\n",
       "      <th>prop_profit</th>\n",
       "    </tr>\n",
       "  </thead>\n",
       "  <tbody>\n",
       "    <tr>\n",
       "      <th>0</th>\n",
       "      <td>tt0369610</td>\n",
       "      <td>Colin Trevorrow</td>\n",
       "      <td>1363528810</td>\n",
       "      <td>15</td>\n",
       "      <td>9.090192e+07</td>\n",
       "    </tr>\n",
       "    <tr>\n",
       "      <th>1</th>\n",
       "      <td>tt1392190</td>\n",
       "      <td>George Miller</td>\n",
       "      <td>228436354</td>\n",
       "      <td>13</td>\n",
       "      <td>1.757203e+07</td>\n",
       "    </tr>\n",
       "    <tr>\n",
       "      <th>2</th>\n",
       "      <td>tt2908446</td>\n",
       "      <td>Robert Schwentke</td>\n",
       "      <td>185238201</td>\n",
       "      <td>16</td>\n",
       "      <td>1.157739e+07</td>\n",
       "    </tr>\n",
       "    <tr>\n",
       "      <th>3</th>\n",
       "      <td>tt2488496</td>\n",
       "      <td>J.J. Abrams</td>\n",
       "      <td>1868178225</td>\n",
       "      <td>11</td>\n",
       "      <td>1.698344e+08</td>\n",
       "    </tr>\n",
       "    <tr>\n",
       "      <th>4</th>\n",
       "      <td>tt2820852</td>\n",
       "      <td>James Wan</td>\n",
       "      <td>1316249360</td>\n",
       "      <td>9</td>\n",
       "      <td>1.462499e+08</td>\n",
       "    </tr>\n",
       "  </tbody>\n",
       "</table>\n",
       "</div>"
      ],
      "text/plain": [
       "     imdb_id          director      profit  director_count   prop_profit\n",
       "0  tt0369610   Colin Trevorrow  1363528810              15  9.090192e+07\n",
       "1  tt1392190     George Miller   228436354              13  1.757203e+07\n",
       "2  tt2908446  Robert Schwentke   185238201              16  1.157739e+07\n",
       "3  tt2488496       J.J. Abrams  1868178225              11  1.698344e+08\n",
       "4  tt2820852         James Wan  1316249360               9  1.462499e+08"
      ]
     },
     "metadata": {},
     "output_type": "display_data"
    },
    {
     "data": {
      "text/plain": [
       "a_director\n",
       "Peter Jackson    4.001995e+08\n",
       "David Yates      3.072087e+08\n",
       "J.J. Abrams      2.581064e+08\n",
       "Name: prop_profit, dtype: float64"
      ]
     },
     "metadata": {},
     "output_type": "display_data"
    }
   ],
   "source": [
    "#v1 Если режиссёров несколько, то каждому считается вся прибыль\n",
    "display(directors.merge(data, on='imdb_id', how='inner').groupby(\n",
    "    'a_director')['profit'].sum().sort_values(ascending=False).head(3))\n",
    "\n",
    "#v2 - пропорциональное разделение прибыли\n",
    "display(data.head(5)[['imdb_id', 'director', 'profit']])\n",
    "def dir_cnt(d):\n",
    "    return len(d.director)\n",
    "data[\"director_count\"] = data.apply(lambda x: dir_cnt(x), axis = 1)\n",
    "data[\"prop_profit\"] = data[\"profit\"]/data[\"director_count\"]\n",
    "display(data.head(5)[['imdb_id', 'director', 'profit', 'director_count', 'prop_profit']])\n",
    "display(directors.merge(data, on='imdb_id', how='inner').groupby(\n",
    "    'a_director')['prop_profit'].sum().sort_values(ascending=False).head(3))\n",
    "\n",
    "answer_ls.append(5)"
   ]
  },
  {
   "cell_type": "markdown",
   "metadata": {},
   "source": [
    "# + 16. Какой актер принес больше всего прибыли?\n",
    "Варианты ответов:\n",
    "1. Emma Watson\n",
    "2. Johnny Depp\n",
    "3. Michelle Rodriguez\n",
    "4. Orlando Bloom\n",
    "5. Rupert Grint"
   ]
  },
  {
   "cell_type": "code",
   "execution_count": 20,
   "metadata": {},
   "outputs": [
    {
     "data": {
      "text/plain": [
       "actor\n",
       "Emma Watson         6666245597\n",
       "Daniel Radcliffe    6514990281\n",
       "Rupert Grint        6408638290\n",
       "Name: profit, dtype: int64"
      ]
     },
     "metadata": {},
     "output_type": "display_data"
    }
   ],
   "source": [
    "display(casts.merge(data, on='imdb_id', how='left').groupby(['actor'])['profit'].sum().sort_values(ascending = False).head(3))\n",
    "\n",
    "answer_ls.append(1)"
   ]
  },
  {
   "cell_type": "markdown",
   "metadata": {},
   "source": [
    "# + 17. Какой актер принес меньше всего прибыли в 2012 году?\n",
    "Варианты ответов:\n",
    "1. Nicolas Cage\n",
    "2. Danny Huston\n",
    "3. Kirsten Dunst\n",
    "4. Jim Sturgess\n",
    "5. Sami Gayle"
   ]
  },
  {
   "cell_type": "code",
   "execution_count": 21,
   "metadata": {},
   "outputs": [
    {
     "data": {
      "text/plain": [
       "actor\n",
       "Kirsten Dunst   -68109207.0\n",
       "Name: profit, dtype: float64"
      ]
     },
     "metadata": {},
     "output_type": "display_data"
    }
   ],
   "source": [
    "display(casts.merge(data[data.release_year == 2012], on='imdb_id', how='left').groupby(\n",
    "    ['actor'])['profit'].sum().sort_values(ascending=True).head(1))\n",
    "\n",
    "answer_ls.append(3)"
   ]
  },
  {
   "cell_type": "markdown",
   "metadata": {},
   "source": [
    "# + 18. Какой актер снялся в большем количестве высокобюджетных фильмов? (в фильмах где бюджет выше среднего по данной выборке)\n",
    "Варианты ответов:\n",
    "1. Tom Cruise\n",
    "2. Mark Wahlberg \n",
    "3. Matt Damon\n",
    "4. Angelina Jolie\n",
    "5. Adam Sandler"
   ]
  },
  {
   "cell_type": "code",
   "execution_count": 22,
   "metadata": {},
   "outputs": [
    {
     "data": {
      "text/plain": [
       "actor\n",
       "Matt Damon    18\n",
       "Name: imdb_id, dtype: int64"
      ]
     },
     "metadata": {},
     "output_type": "display_data"
    }
   ],
   "source": [
    "display(casts.merge(data[data.budget > data.budget.mean()], on='imdb_id', how='inner').groupby(\n",
    "    ['actor'])['imdb_id'].count().sort_values(ascending=False).head(1))\n",
    "\n",
    "answer_ls.append(3)"
   ]
  },
  {
   "cell_type": "markdown",
   "metadata": {},
   "source": [
    "# + 19. В фильмах какого жанра больше всего снимался Nicolas Cage?  \n",
    "Варианты ответа:\n",
    "1. Drama\n",
    "2. Action\n",
    "3. Thriller\n",
    "4. Adventure\n",
    "5. Crime"
   ]
  },
  {
   "cell_type": "code",
   "execution_count": 23,
   "metadata": {},
   "outputs": [
    {
     "data": {
      "text/plain": [
       "genre\n",
       "Action    17\n",
       "Name: imdb_id, dtype: int64"
      ]
     },
     "metadata": {},
     "output_type": "display_data"
    }
   ],
   "source": [
    "display(data[data.cast.str.contains('Nicolas Cage')].merge(genres, on='imdb_id', how='inner').groupby(\n",
    "    ['genre'])['imdb_id'].count().sort_values(ascending=False).head(1))\n",
    "\n",
    "answer_ls.append(2)"
   ]
  },
  {
   "cell_type": "markdown",
   "metadata": {},
   "source": [
    "# + 20. Какая студия сняла больше всего фильмов?\n",
    "Варианты ответа:\n",
    "1. Universal Pictures (Universal)\n",
    "2. Paramount Pictures\n",
    "3. Columbia Pictures\n",
    "4. Warner Bros\n",
    "5. Twentieth Century Fox Film Corporation"
   ]
  },
  {
   "cell_type": "code",
   "execution_count": 24,
   "metadata": {},
   "outputs": [
    {
     "data": {
      "text/plain": [
       "production_company_syn\n",
       "Universal    182\n",
       "Warner       181\n",
       "Columbia     164\n",
       "Fox          127\n",
       "Paramount    122\n",
       "Name: production_company_syn, dtype: int64"
      ]
     },
     "metadata": {},
     "output_type": "display_data"
    }
   ],
   "source": [
    "display(production_companies.groupby(['production_company_syn'])[\n",
    "        'production_company_syn'].count().sort_values(ascending=False).head(5))\n",
    "\n",
    "\n",
    "answer_ls.append(1)"
   ]
  },
  {
   "cell_type": "markdown",
   "metadata": {},
   "source": [
    "# + 21. Какая студия сняла больше всего фильмов в 2015 году?\n",
    "Варианты ответа:\n",
    "1. Universal Pictures\n",
    "2. Paramount Pictures\n",
    "3. Columbia Pictures\n",
    "4. Warner Bros\n",
    "5. Twentieth Century Fox Film Corporation"
   ]
  },
  {
   "cell_type": "code",
   "execution_count": 25,
   "metadata": {},
   "outputs": [
    {
     "data": {
      "text/plain": [
       "production_company\n",
       "Warner Bros.                              12\n",
       "Universal Pictures                        10\n",
       "Twentieth Century Fox Film Corporation     8\n",
       "Paramount Pictures                         7\n",
       "Columbia Pictures                          7\n",
       "Name: imdb_id, dtype: int64"
      ]
     },
     "metadata": {},
     "output_type": "display_data"
    }
   ],
   "source": [
    "display(production_companies.merge(data[data.release_year == 2015], on='imdb_id', how='inner').groupby(\n",
    "    ['production_company'])['imdb_id'].count().sort_values(ascending=False).head(5))\n",
    "\n",
    "answer_ls.append(4)"
   ]
  },
  {
   "cell_type": "markdown",
   "metadata": {},
   "source": [
    "# + 22. Какая студия заработала больше всего денег в жанре комедий за все время?\n",
    "Варианты ответа:\n",
    "1. Warner Bros\n",
    "2. Universal Pictures (Universal)\n",
    "3. Columbia Pictures\n",
    "4. Paramount Pictures\n",
    "5. Walt Disney"
   ]
  },
  {
   "cell_type": "code",
   "execution_count": 26,
   "metadata": {},
   "outputs": [
    {
     "data": {
      "text/plain": [
       "production_company_syn\n",
       "Universal               9083535657\n",
       "Disney                  7700093439\n",
       "Columbia                7463624069\n",
       "Fox                     6266513139\n",
       "DreamWorks Animation    4789049764\n",
       "Name: profit, dtype: int64"
      ]
     },
     "metadata": {},
     "output_type": "display_data"
    }
   ],
   "source": [
    "display(production_companies.merge(data[data.genres.str.contains('Comedy')], on='imdb_id', how='inner').groupby([\n",
    "    'production_company_syn'])['profit'].sum().sort_values(ascending=False).head(5))\n",
    "\n",
    "answer_ls.append(2)"
   ]
  },
  {
   "cell_type": "markdown",
   "metadata": {},
   "source": [
    "# + 23. Какая студия заработала больше всего денег в 2012 году?\n",
    "Варианты ответа:\n",
    "1. Universal Pictures (Universal)\n",
    "2. Warner Bros\n",
    "3. Columbia Pictures\n",
    "4. Paramount Pictures\n",
    "5. Lucasfilm"
   ]
  },
  {
   "cell_type": "code",
   "execution_count": 27,
   "metadata": {},
   "outputs": [
    {
     "data": {
      "text/plain": [
       "production_company_syn\n",
       "Columbia            2501406608\n",
       "Universal           1981011579\n",
       "Marvel Studios      1299557910\n",
       "Warner              1258020056\n",
       "Relativity Media    1032593938\n",
       "Name: profit, dtype: int64"
      ]
     },
     "metadata": {},
     "output_type": "display_data"
    }
   ],
   "source": [
    "display(production_companies.merge(data[data.release_year == 2012], on='imdb_id', how='inner').groupby(\n",
    "    ['production_company_syn'])['profit'].sum().sort_values(ascending=False).head(5))\n",
    "\n",
    "answer_ls.append(3)"
   ]
  },
  {
   "cell_type": "markdown",
   "metadata": {},
   "source": [
    "# + 24. Самый убыточный фильм от Paramount Pictures\n",
    "Варианты ответа:\n",
    "\n",
    "1. K-19: The Widowmaker tt0267626\n",
    "2. Next tt0435705\n",
    "3. Twisted tt0315297\n",
    "4. The Love Guru tt0811138\n",
    "5. The Fighter tt0964517"
   ]
  },
  {
   "cell_type": "code",
   "execution_count": 28,
   "metadata": {},
   "outputs": [
    {
     "data": {
      "text/html": [
       "<div>\n",
       "<style scoped>\n",
       "    .dataframe tbody tr th:only-of-type {\n",
       "        vertical-align: middle;\n",
       "    }\n",
       "\n",
       "    .dataframe tbody tr th {\n",
       "        vertical-align: top;\n",
       "    }\n",
       "\n",
       "    .dataframe thead th {\n",
       "        text-align: right;\n",
       "    }\n",
       "</style>\n",
       "<table border=\"1\" class=\"dataframe\">\n",
       "  <thead>\n",
       "    <tr style=\"text-align: right;\">\n",
       "      <th></th>\n",
       "      <th>original_title</th>\n",
       "      <th>profit</th>\n",
       "      <th>imdb_id</th>\n",
       "    </tr>\n",
       "  </thead>\n",
       "  <tbody>\n",
       "    <tr>\n",
       "      <th>926</th>\n",
       "      <td>K-19: The Widowmaker</td>\n",
       "      <td>-64831034</td>\n",
       "      <td>tt0267626</td>\n",
       "    </tr>\n",
       "    <tr>\n",
       "      <th>1124</th>\n",
       "      <td>Timeline</td>\n",
       "      <td>-60519261</td>\n",
       "      <td>tt0300556</td>\n",
       "    </tr>\n",
       "    <tr>\n",
       "      <th>1723</th>\n",
       "      <td>Next</td>\n",
       "      <td>-51788987</td>\n",
       "      <td>tt0435705</td>\n",
       "    </tr>\n",
       "  </tbody>\n",
       "</table>\n",
       "</div>"
      ],
      "text/plain": [
       "            original_title    profit    imdb_id\n",
       "926   K-19: The Widowmaker -64831034  tt0267626\n",
       "1124              Timeline -60519261  tt0300556\n",
       "1723                  Next -51788987  tt0435705"
      ]
     },
     "metadata": {},
     "output_type": "display_data"
    }
   ],
   "source": [
    "display(data[data.production_companies.str.contains('Paramount Pictures')].\n",
    "        sort_values('profit').head(3)[['original_title', 'profit', 'imdb_id']])\n",
    "\n",
    "answer_ls.append(1)"
   ]
  },
  {
   "cell_type": "markdown",
   "metadata": {},
   "source": [
    "# + 25. Какой Самый прибыльный год (заработали больше всего)?\n",
    "Варианты ответа:\n",
    "1. 2014\n",
    "2. 2008\n",
    "3. 2012\n",
    "4. 2002\n",
    "5. 2015"
   ]
  },
  {
   "cell_type": "code",
   "execution_count": 29,
   "metadata": {},
   "outputs": [
    {
     "data": {
      "text/plain": [
       "release_year\n",
       "2015    18668572378\n",
       "2014    16397812953\n",
       "2012    16077001687\n",
       "Name: profit, dtype: int64"
      ]
     },
     "metadata": {},
     "output_type": "display_data"
    }
   ],
   "source": [
    "display(data.groupby(['release_year'])['profit'].sum().sort_values(ascending = False).head(3))\n",
    "\n",
    "answer_ls.append(5)"
   ]
  },
  {
   "cell_type": "markdown",
   "metadata": {},
   "source": [
    "# + 26. Какой Самый прибыльный год для студии Warner Bros?\n",
    "Варианты ответа:\n",
    "1. 2014\n",
    "2. 2008\n",
    "3. 2012\n",
    "4. 2010\n",
    "5. 2015"
   ]
  },
  {
   "cell_type": "code",
   "execution_count": 30,
   "metadata": {},
   "outputs": [
    {
     "data": {
      "text/plain": [
       "release_year\n",
       "2014    2295464519\n",
       "2007    2201675217\n",
       "2008    2134595031\n",
       "Name: profit, dtype: int64"
      ]
     },
     "metadata": {},
     "output_type": "display_data"
    },
    {
     "data": {
      "text/plain": [
       "release_year\n",
       "2007    2201675217\n",
       "2008    2134595031\n",
       "2014    1886303827\n",
       "Name: profit, dtype: int64"
      ]
     },
     "metadata": {},
     "output_type": "display_data"
    },
    {
     "data": {
      "text/plain": [
       "release_year\n",
       "2011    98586594\n",
       "2013    55020213\n",
       "2010   -10877196\n",
       "Name: profit, dtype: int64"
      ]
     },
     "metadata": {},
     "output_type": "display_data"
    }
   ],
   "source": [
    "# v1 Этот вариант подошёл, но он странный, т.к. contains('Warner Bros') вроде как не подходит к использованию\n",
    "display(data[data.production_companies.str.contains('Warner Bros')].groupby(\n",
    "    ['release_year'])['profit'].sum().sort_values(ascending=False).head(3))\n",
    "\n",
    "# v2 Этот вариант, вроде как правильнее по условиям, работает с учетом исторических названий\n",
    "# но двает вариант ответа, который в принципе отсутствует в вариантах\n",
    "d1 = production_companies[production_companies.production_company_syn == 'Warner']\n",
    "d2 = d1.merge(data, on='imdb_id', how='left')\n",
    "display(d2.groupby(['release_year'])['profit'].sum().sort_values(ascending=False).head(3))\n",
    "\n",
    "# v3 По точному соответствию. Тоже дает ответ, которого нет в вариантах\n",
    "d1 = data[data.production_companies == 'Warner Bros.']\n",
    "display(d1.groupby(['release_year'])['profit'].sum().sort_values(ascending=False).head(3))\n",
    "\n",
    "answer_ls.append(1)"
   ]
  },
  {
   "cell_type": "markdown",
   "metadata": {},
   "source": [
    "# + 27. В каком месяце за все годы суммарно вышло больше всего фильмов?\n",
    "Варианты ответа:\n",
    "1. Январь\n",
    "2. Июнь\n",
    "3. Декабрь\n",
    "4. Сентябрь\n",
    "5. Май"
   ]
  },
  {
   "cell_type": "code",
   "execution_count": 31,
   "metadata": {},
   "outputs": [
    {
     "data": {
      "text/plain": [
       "release_month\n",
       "9     227\n",
       "12    191\n",
       "10    186\n",
       "8     161\n",
       "3     156\n",
       "4     149\n",
       "6     147\n",
       "11    146\n",
       "7     142\n",
       "5     140\n",
       "2     135\n",
       "1     110\n",
       "Name: imdb_id, dtype: int64"
      ]
     },
     "metadata": {},
     "output_type": "display_data"
    },
    {
     "data": {
      "text/plain": [
       "release_date_as_date\n",
       "9     227\n",
       "12    191\n",
       "10    186\n",
       "8     161\n",
       "3     156\n",
       "4     149\n",
       "6     147\n",
       "11    146\n",
       "7     142\n",
       "5     140\n",
       "2     135\n",
       "1     110\n",
       "Name: imdb_id, dtype: int64"
      ]
     },
     "metadata": {},
     "output_type": "display_data"
    }
   ],
   "source": [
    "#v1\n",
    "display(data.groupby(['release_month'])['imdb_id'].count().sort_values(ascending = False))\n",
    "\n",
    "#v2\n",
    "display(data.groupby([data.release_date_as_date.dt.month])['imdb_id'].count().sort_values(ascending = False))\n",
    "\n",
    "answer_ls.append(4)"
   ]
  },
  {
   "cell_type": "markdown",
   "metadata": {},
   "source": [
    "# + 28. Сколько суммарно вышло фильмов летом? (за июнь, июль, август)\n",
    "Варианты ответа:\n",
    "1. 345\n",
    "2. 450\n",
    "3. 478\n",
    "4. 523\n",
    "5. 381"
   ]
  },
  {
   "cell_type": "code",
   "execution_count": 32,
   "metadata": {},
   "outputs": [
    {
     "name": "stdout",
     "output_type": "stream",
     "text": [
      "450\n"
     ]
    }
   ],
   "source": [
    "print(len(data[(data.release_month >=6) & (data.release_month <=8)]))\n",
    "\n",
    "answer_ls.append(2)"
   ]
  },
  {
   "cell_type": "markdown",
   "metadata": {},
   "source": [
    "# + 29. Какой режисер выпускает (суммарно по годам) больше всего фильмов зимой?\n",
    "Варианты ответов:\n",
    "1. Steven Soderbergh\n",
    "2. Christopher Nolan\n",
    "3. Clint Eastwood\n",
    "4. Ridley Scott\n",
    "5. Peter Jackson"
   ]
  },
  {
   "cell_type": "code",
   "execution_count": 33,
   "metadata": {},
   "outputs": [
    {
     "data": {
      "text/plain": [
       "director\n",
       "Peter Jackson        7\n",
       "Clint Eastwood       6\n",
       "Steven Soderbergh    6\n",
       "Name: imdb_id, dtype: int64"
      ]
     },
     "metadata": {},
     "output_type": "display_data"
    }
   ],
   "source": [
    "display(data[(data.release_month == 12) | (data.release_month == 1) | (data.release_month == 2)].groupby(['director'])['imdb_id'].count().sort_values(ascending=False).head(3))\n",
    "\n",
    "answer_ls.append(5)"
   ]
  },
  {
   "cell_type": "markdown",
   "metadata": {},
   "source": [
    "# + 30. Какой месяц чаще всего по годам самый прибыльный?\n",
    "Варианты ответа:\n",
    "1. Январь\n",
    "2. Июнь\n",
    "3. Декабрь\n",
    "4. Сентябрь\n",
    "5. Май"
   ]
  },
  {
   "cell_type": "code",
   "execution_count": 34,
   "metadata": {},
   "outputs": [
    {
     "data": {
      "text/plain": [
       "release_month\n",
       "6     27551262500\n",
       "12    26563071474\n",
       "5     25039516141\n",
       "11    18654155473\n",
       "7     18307895020\n",
       "Name: profit, dtype: int64"
      ]
     },
     "metadata": {},
     "output_type": "display_data"
    },
    {
     "data": {
      "text/plain": [
       "best_month\n",
       "6     7\n",
       "12    4\n",
       "5     4\n",
       "7     1\n",
       "Name: release_year, dtype: int64"
      ]
     },
     "metadata": {},
     "output_type": "display_data"
    },
    {
     "data": {
      "text/plain": [
       "best_month\n",
       "6     7\n",
       "12    4\n",
       "5     4\n",
       "7     1\n",
       "Name: release_year, dtype: int64"
      ]
     },
     "metadata": {},
     "output_type": "display_data"
    }
   ],
   "source": [
    "#v1 если считать по суммурному профиту\n",
    "display(data.groupby(['release_month'])['profit'].sum().sort_values(ascending=False).head(5))\n",
    "\n",
    "#v2 если считать по тому, сколько раз месяц был первым за каждый год\n",
    "d = pd.DataFrame({'release_year': list(data.release_year.unique())})\n",
    "def get_the_best_month_on_year(year):\n",
    "    s = data[data.release_year==year].groupby('release_month')['profit'].sum().sort_values(ascending=False).index.values[0]\n",
    "    return s\n",
    "d['best_month'] = d.apply(lambda x: get_the_best_month_on_year(x.release_year), axis=1)\n",
    "display(d.groupby('best_month')['release_year'].count().sort_values(ascending=False))\n",
    "\n",
    "#v3 модифицированный v2, д.б. более быстрым\n",
    "d = pd.DataFrame({'release_year': list(data.release_year.unique())})\n",
    "df_ym = data.groupby(['release_year', 'release_month'])['profit'].sum().to_frame().reset_index(level=0).reset_index(level=0)\n",
    "def get_the_best_month_on_year(year):\n",
    "    s = df_ym[df_ym.release_year==year].sort_values('profit', ascending=False)['release_month'].values[0]\n",
    "    return s\n",
    "d['best_month'] = d.apply(lambda x: get_the_best_month_on_year(x.release_year), axis=1)\n",
    "display(d.groupby('best_month')['release_year'].count().sort_values(ascending=False))\n",
    "\n",
    "answer_ls.append(1)"
   ]
  },
  {
   "cell_type": "markdown",
   "metadata": {},
   "source": [
    "# + 31. Названия фильмов какой студии в среднем самые длинные по количеству символов?\n",
    "Варианты ответа:\n",
    "1. Universal Pictures (Universal)\n",
    "2. Warner Bros\n",
    "3. Jim Henson Company, The\n",
    "4. Paramount Pictures\n",
    "5. Four By Two Productions"
   ]
  },
  {
   "cell_type": "code",
   "execution_count": 35,
   "metadata": {},
   "outputs": [
    {
     "data": {
      "text/plain": [
       "production_company_syn\n",
       "Four By Two Productions    83.0\n",
       "Jim Henson Company, The    59.0\n",
       "Dos Corazones              47.0\n",
       "Name: len_original_title, dtype: float64"
      ]
     },
     "metadata": {},
     "output_type": "display_data"
    }
   ],
   "source": [
    "data['len_original_title'] = data.apply(lambda x: len(x['original_title']), axis=1)\n",
    "df = production_companies.merge(data, on='imdb_id', how='inner').groupby(\n",
    "    ['production_company_syn'])['len_original_title'].mean().sort_values(ascending=False)\n",
    "display(df.head(3))\n",
    "\n",
    "answer_ls.append(5)"
   ]
  },
  {
   "cell_type": "markdown",
   "metadata": {},
   "source": [
    "# + 32. Названия фильмов какой студии в среднем самые длинные по количеству слов?\n",
    "Варианты ответа:\n",
    "1. Universal Pictures (Universal)\n",
    "2. Warner Bros\n",
    "3. Jim Henson Company, The\n",
    "4. Paramount Pictures\n",
    "5. Four By Two Productions"
   ]
  },
  {
   "cell_type": "code",
   "execution_count": 36,
   "metadata": {},
   "outputs": [
    {
     "data": {
      "text/plain": [
       "production_company_syn\n",
       "Four By Two Productions    12.0\n",
       "Jim Henson Company, The    10.0\n",
       "Dos Corazones               9.0\n",
       "Name: word_counts_in_original_title, dtype: float64"
      ]
     },
     "metadata": {},
     "output_type": "display_data"
    }
   ],
   "source": [
    "import re\n",
    "data['word_counts_in_original_title'] = data.apply(\n",
    "    lambda x: len(re.split(r'[\\s]', x['original_title'])), axis=1)\n",
    "#data[['imdb_id', 'original_title', 'word_counts_in_original_title', 'production_companies']]\n",
    "display(production_companies.merge(data, on='imdb_id', how='inner').groupby(\n",
    "    ['production_company_syn'])['word_counts_in_original_title'].mean().sort_values(ascending=False).head(3))\n",
    "\n",
    "answer_ls.append(5)"
   ]
  },
  {
   "cell_type": "markdown",
   "metadata": {},
   "source": [
    "# + 33. Сколько разных слов используется в названиях фильмов?(без учета регистра)\n",
    "Варианты ответа:\n",
    "1. 6540\n",
    "2. 1002\n",
    "3. 2461\n",
    "4. 28304\n",
    "5. 3432"
   ]
  },
  {
   "cell_type": "code",
   "execution_count": 37,
   "metadata": {},
   "outputs": [
    {
     "name": "stdout",
     "output_type": "stream",
     "text": [
      "2461\n",
      "2461\n"
     ]
    }
   ],
   "source": [
    "#v1\n",
    "c = Counter()\n",
    "import re\n",
    "for x in [d[1].original_title for d in data.iterrows()]:\n",
    "    for w in re.split(r'[\\s]',x):\n",
    "        #print(re.split(r'[\\b\\W]',x))\n",
    "        if w != '':\n",
    "            c[w.lower()] += 1\n",
    "print(len(c))  \n",
    "\n",
    "#v2\n",
    "c1 = Counter()\n",
    "def calc_words(title,cntr):\n",
    "    for w in re.split(r'[\\s]',title.lower()):\n",
    "        if w != '':\n",
    "            cntr[w] += 1\n",
    "data.apply(lambda x: calc_words(x.original_title, c1), axis=1)            \n",
    "print(len(c1))\n",
    "\n",
    "answer_ls.append(3)"
   ]
  },
  {
   "cell_type": "markdown",
   "metadata": {},
   "source": [
    "# + 34. Какие фильмы входят в 1 процент лучших по рейтингу?\n",
    "Варианты ответа:\n",
    "1. Inside Out, Gone Girl, 12 Years a Slave\n",
    "2. BloodRayne, The Adventures of Rocky & Bullwinkle\n",
    "3. The Lord of the Rings: The Return of the King\n",
    "4. 300, Lucky Number Slevin"
   ]
  },
  {
   "cell_type": "code",
   "execution_count": 38,
   "metadata": {},
   "outputs": [
    {
     "data": {
      "text/html": [
       "<div>\n",
       "<style scoped>\n",
       "    .dataframe tbody tr th:only-of-type {\n",
       "        vertical-align: middle;\n",
       "    }\n",
       "\n",
       "    .dataframe tbody tr th {\n",
       "        vertical-align: top;\n",
       "    }\n",
       "\n",
       "    .dataframe thead th {\n",
       "        text-align: right;\n",
       "    }\n",
       "</style>\n",
       "<table border=\"1\" class=\"dataframe\">\n",
       "  <thead>\n",
       "    <tr style=\"text-align: right;\">\n",
       "      <th></th>\n",
       "      <th>original_title</th>\n",
       "      <th>vote_average</th>\n",
       "      <th>imdb_id</th>\n",
       "    </tr>\n",
       "  </thead>\n",
       "  <tbody>\n",
       "    <tr>\n",
       "      <th>9</th>\n",
       "      <td>Inside Out</td>\n",
       "      <td>8.0</td>\n",
       "      <td>tt2096673</td>\n",
       "    </tr>\n",
       "    <tr>\n",
       "      <th>128</th>\n",
       "      <td>Gone Girl</td>\n",
       "      <td>7.9</td>\n",
       "      <td>tt2267998</td>\n",
       "    </tr>\n",
       "    <tr>\n",
       "      <th>1082</th>\n",
       "      <td>The Lord of the Rings: The Return of the King</td>\n",
       "      <td>7.9</td>\n",
       "      <td>tt0167260</td>\n",
       "    </tr>\n",
       "    <tr>\n",
       "      <th>1192</th>\n",
       "      <td>12 Years a Slave</td>\n",
       "      <td>7.9</td>\n",
       "      <td>tt2024544</td>\n",
       "    </tr>\n",
       "  </tbody>\n",
       "</table>\n",
       "</div>"
      ],
      "text/plain": [
       "                                     original_title  vote_average    imdb_id\n",
       "9                                        Inside Out           8.0  tt2096673\n",
       "128                                       Gone Girl           7.9  tt2267998\n",
       "1082  The Lord of the Rings: The Return of the King           7.9  tt0167260\n",
       "1192                               12 Years a Slave           7.9  tt2024544"
      ]
     },
     "metadata": {},
     "output_type": "display_data"
    },
    {
     "data": {
      "text/html": [
       "<div>\n",
       "<style scoped>\n",
       "    .dataframe tbody tr th:only-of-type {\n",
       "        vertical-align: middle;\n",
       "    }\n",
       "\n",
       "    .dataframe tbody tr th {\n",
       "        vertical-align: top;\n",
       "    }\n",
       "\n",
       "    .dataframe thead th {\n",
       "        text-align: right;\n",
       "    }\n",
       "</style>\n",
       "<table border=\"1\" class=\"dataframe\">\n",
       "  <thead>\n",
       "    <tr style=\"text-align: right;\">\n",
       "      <th></th>\n",
       "      <th>original_title</th>\n",
       "      <th>popularity</th>\n",
       "      <th>imdb_id</th>\n",
       "    </tr>\n",
       "  </thead>\n",
       "  <tbody>\n",
       "  </tbody>\n",
       "</table>\n",
       "</div>"
      ],
      "text/plain": [
       "Empty DataFrame\n",
       "Columns: [original_title, popularity, imdb_id]\n",
       "Index: []"
      ]
     },
     "metadata": {},
     "output_type": "display_data"
    }
   ],
   "source": [
    "# v1 use 'vote_average'\n",
    "d = data[data.vote_average >= data.quantile([.99]).vote_average.values[0]]\n",
    "d_filt = d.original_title.isin(['Inside Out', 'Gone Girl', '12 Years a Slave', 'BloodRayne', \n",
    "                                'The Adventures of Rocky & Bullwinkle', \n",
    "                                'The Lord of the Rings: The Return of the King', 'Upside Down', '300', \n",
    "                                'Lucky Number Slevin'])\n",
    "display(d[d_filt][['original_title', 'vote_average', 'imdb_id']].head(10))\n",
    "\n",
    "# v2 use 'popularity'  wrong variant\n",
    "d = data[data.popularity >= data.quantile([.99]).popularity.values[0]]\n",
    "d_filt = d.original_title.isin(['Inside Out', 'Gone Girl', '12 Years a Slave', 'BloodRayne', \n",
    "                                'The Adventures of Rocky & Bullwinkle', \n",
    "                                'The Lord of the Rings: The Return of the King', 'Upside Down', '300', \n",
    "                                'Lucky Number Slevin'])\n",
    "display(d[d_filt][['original_title', 'popularity', 'imdb_id']].head(10))\n",
    "\n",
    "answer_ls.append(1)"
   ]
  },
  {
   "cell_type": "markdown",
   "metadata": {},
   "source": [
    "# + 35. Какие актеры чаще всего снимаются в одном фильме вместе\n",
    "Варианты ответа:\n",
    "1. Johnny Depp & Helena Bonham Carter\n",
    "2. Hugh Jackman & Ian McKellen\n",
    "3. Vin Diesel & Paul Walker\n",
    "4. Adam Sandler & Kevin James\n",
    "5. Daniel Radcliffe & Rupert Grint"
   ]
  },
  {
   "cell_type": "code",
   "execution_count": 39,
   "metadata": {},
   "outputs": [
    {
     "name": "stdout",
     "output_type": "stream",
     "text": [
      "\n",
      "v1\n",
      "Johnny Depp & Helena Bonham Carter 6\n",
      "Hugh Jackman & Ian McKellen 5\n",
      "Vin Diesel & Paul Walker 5\n",
      "Adam Sandler & Kevin James 5\n",
      "Daniel Radcliffe & Rupert Grint 8\n",
      "\n",
      "v2\n",
      "('Daniel Radcliffe & Rupert Grint', 8)\n",
      "\n",
      "v4\n",
      "[('Daniel Radcliffe & Emma Watson', 8), ('Daniel Radcliffe & Rupert Grint', 8), ('Emma Watson & Rupert Grint', 8), ('Ben Stiller & Owen Wilson', 6), ('Helena Bonham Carter & Johnny Depp', 6)]\n",
      "\n",
      "v5\n",
      "[('Daniel Radcliffe & Emma Watson', 8), ('Daniel Radcliffe & Rupert Grint', 8), ('Emma Watson & Rupert Grint', 8), ('Ben Stiller & Owen Wilson', 6), ('Helena Bonham Carter & Johnny Depp', 6)]\n"
     ]
    }
   ],
   "source": [
    "print(\"\\nv1\")\n",
    "print(\"Johnny Depp & Helena Bonham Carter\", len(data[data.cast.str.contains(\"Johnny Depp\") & data.cast.str.contains(\"Helena Bonham Carter\")]))\n",
    "print(\"Hugh Jackman & Ian McKellen\", len(data[data.cast.str.contains(\"Hugh Jackman\") & data.cast.str.contains(\"Ian McKellen\")]))\n",
    "print(\"Vin Diesel & Paul Walker\", len(data[data.cast.str.contains(\"Vin Diesel\") & data.cast.str.contains(\"Paul Walker\")]))\n",
    "print(\"Adam Sandler & Kevin James\", len(data[data.cast.str.contains(\"Adam Sandler\") & data.cast.str.contains(\"Kevin James\")]))\n",
    "print(\"Daniel Radcliffe & Rupert Grint\", len(data[data.cast.str.contains(\"Daniel Radcliffe\") & data.cast.str.contains(\"Rupert Grint\")]))\n",
    "\n",
    "print(\"\\nv2\")\n",
    "actors = [\"Johnny Depp\", \"Helena Bonham Carter\",\n",
    "        \"Hugh Jackman\", \"Ian McKellen\",\n",
    "        \"Vin Diesel\", \"Paul Walker\",\n",
    "        \"Adam Sandler\", \"Kevin James\",\n",
    "        \"Daniel Radcliffe\", \"Rupert Grint\"]\n",
    "film_cnts = []\n",
    "for pair in itertools.permutations(actors, r=2):\n",
    "    l = len(data[data.cast.str.contains(pair[0]) & data.cast.str.contains(pair[1])])\n",
    "    k = pair[0]+\" & \"+pair[1]\n",
    "    film_cnts.append((k, l))\n",
    "print(sorted(film_cnts, key=lambda d: d[1], reverse=True )[0])    \n",
    "\n",
    "#v3. Расчетное время выполнения - 15-20 часов. Надо будет проверить 11611056 комбинаций :)\n",
    "#film_cnts = []\n",
    "#all_actors = list(casts.actor.unique())[:100]\n",
    "#all_pairs = list(itertools.permutations(all_actors, r=2))\n",
    "#print(len(all_actors), len(all_pairs))\n",
    "#for pair in all_pairs:\n",
    "#    l = len(data[data.cast.str.contains(pair[0]) & data.cast.str.contains(pair[1])])\n",
    "#    k = pair[0]+\" & \"+pair[1]\n",
    "#    film_cnts.append((k, l))\n",
    "#print(sorted(film_cnts, key=lambda d: d[1], reverse=True )[0])    \n",
    "\n",
    "print(\"\\nv4\")\n",
    "c = Counter()\n",
    "for d in data.iterrows():\n",
    "    for p in itertools.combinations(sorted(d[1].cast.split(\"|\")), 2):\n",
    "        c[p[0]+\" & \" + p[1]] +=1\n",
    "print(c.most_common(5))\n",
    "\n",
    "print(\"\\nv5\")\n",
    "c = Counter()\n",
    "def process_row(d, cntr):\n",
    "    for p in itertools.combinations(sorted(d.cast.split(\"|\")), 2):\n",
    "        cntr[p[0]+\" & \" + p[1]] +=1\n",
    "data.apply(lambda d: process_row(d, c), axis=1)\n",
    "print(c.most_common(5))\n",
    "\n",
    "\n",
    "answer_ls.append(5)"
   ]
  },
  {
   "cell_type": "markdown",
   "metadata": {},
   "source": [
    "# + 36. У какого из режиссеров выше вероятность выпустить фильм в прибыли? (5 баллов)101\n",
    "Варианты ответа:\n",
    "1. Quentin Tarantino\n",
    "2. Steven Soderbergh\n",
    "3. Robert Rodriguez\n",
    "4. Christopher Nolan\n",
    "5. Clint Eastwood"
   ]
  },
  {
   "cell_type": "code",
   "execution_count": 40,
   "metadata": {},
   "outputs": [
    {
     "name": "stdout",
     "output_type": "stream",
     "text": [
      "Quentin Tarantino 85.71\n",
      "Christopher Nolan 100.0\n",
      "Clint Eastwood 83.33\n",
      "Robert Rodriguez 72.73\n",
      "Steven Soderbergh 76.92\n",
      "\n",
      "Лучшие шансы у  Christopher Nolan 100.0\n",
      "998\n"
     ]
    },
    {
     "data": {
      "text/html": [
       "<div>\n",
       "<style scoped>\n",
       "    .dataframe tbody tr th:only-of-type {\n",
       "        vertical-align: middle;\n",
       "    }\n",
       "\n",
       "    .dataframe tbody tr th {\n",
       "        vertical-align: top;\n",
       "    }\n",
       "\n",
       "    .dataframe thead th {\n",
       "        text-align: right;\n",
       "    }\n",
       "</style>\n",
       "<table border=\"1\" class=\"dataframe\">\n",
       "  <thead>\n",
       "    <tr style=\"text-align: right;\">\n",
       "      <th></th>\n",
       "      <th>a_director</th>\n",
       "      <th>profit_movies_percent</th>\n",
       "    </tr>\n",
       "  </thead>\n",
       "  <tbody>\n",
       "    <tr>\n",
       "      <th>122</th>\n",
       "      <td>Christopher Nolan</td>\n",
       "      <td>100.00</td>\n",
       "    </tr>\n",
       "    <tr>\n",
       "      <th>17</th>\n",
       "      <td>Quentin Tarantino</td>\n",
       "      <td>85.71</td>\n",
       "    </tr>\n",
       "    <tr>\n",
       "      <th>148</th>\n",
       "      <td>Clint Eastwood</td>\n",
       "      <td>83.33</td>\n",
       "    </tr>\n",
       "    <tr>\n",
       "      <th>289</th>\n",
       "      <td>Steven Soderbergh</td>\n",
       "      <td>76.92</td>\n",
       "    </tr>\n",
       "    <tr>\n",
       "      <th>190</th>\n",
       "      <td>Robert Rodriguez</td>\n",
       "      <td>72.73</td>\n",
       "    </tr>\n",
       "  </tbody>\n",
       "</table>\n",
       "</div>"
      ],
      "text/plain": [
       "            a_director  profit_movies_percent\n",
       "122  Christopher Nolan                 100.00\n",
       "17   Quentin Tarantino                  85.71\n",
       "148     Clint Eastwood                  83.33\n",
       "289  Steven Soderbergh                  76.92\n",
       "190   Robert Rodriguez                  72.73"
      ]
     },
     "metadata": {},
     "output_type": "display_data"
    },
    {
     "data": {
      "text/html": [
       "<div>\n",
       "<style scoped>\n",
       "    .dataframe tbody tr th:only-of-type {\n",
       "        vertical-align: middle;\n",
       "    }\n",
       "\n",
       "    .dataframe tbody tr th {\n",
       "        vertical-align: top;\n",
       "    }\n",
       "\n",
       "    .dataframe thead th {\n",
       "        text-align: right;\n",
       "    }\n",
       "</style>\n",
       "<table border=\"1\" class=\"dataframe\">\n",
       "  <thead>\n",
       "    <tr style=\"text-align: right;\">\n",
       "      <th></th>\n",
       "      <th>a_director</th>\n",
       "      <th>movie_count</th>\n",
       "      <th>profit_movie_count</th>\n",
       "      <th>profit_movies_percent</th>\n",
       "    </tr>\n",
       "  </thead>\n",
       "  <tbody>\n",
       "    <tr>\n",
       "      <th>151</th>\n",
       "      <td>Christopher Nolan</td>\n",
       "      <td>8</td>\n",
       "      <td>8.0</td>\n",
       "      <td>100.000000</td>\n",
       "    </tr>\n",
       "    <tr>\n",
       "      <th>748</th>\n",
       "      <td>Quentin Tarantino</td>\n",
       "      <td>7</td>\n",
       "      <td>6.0</td>\n",
       "      <td>85.714286</td>\n",
       "    </tr>\n",
       "    <tr>\n",
       "      <th>157</th>\n",
       "      <td>Clint Eastwood</td>\n",
       "      <td>12</td>\n",
       "      <td>10.0</td>\n",
       "      <td>83.333333</td>\n",
       "    </tr>\n",
       "    <tr>\n",
       "      <th>902</th>\n",
       "      <td>Steven Soderbergh</td>\n",
       "      <td>13</td>\n",
       "      <td>10.0</td>\n",
       "      <td>76.923077</td>\n",
       "    </tr>\n",
       "    <tr>\n",
       "      <th>791</th>\n",
       "      <td>Robert Rodriguez</td>\n",
       "      <td>11</td>\n",
       "      <td>8.0</td>\n",
       "      <td>72.727273</td>\n",
       "    </tr>\n",
       "  </tbody>\n",
       "</table>\n",
       "</div>"
      ],
      "text/plain": [
       "            a_director  movie_count  profit_movie_count  profit_movies_percent\n",
       "151  Christopher Nolan            8                 8.0             100.000000\n",
       "748  Quentin Tarantino            7                 6.0              85.714286\n",
       "157     Clint Eastwood           12                10.0              83.333333\n",
       "902  Steven Soderbergh           13                10.0              76.923077\n",
       "791   Robert Rodriguez           11                 8.0              72.727273"
      ]
     },
     "metadata": {},
     "output_type": "display_data"
    }
   ],
   "source": [
    "#v1 не-тру-пандас вариант\n",
    "dict_df = {}\n",
    "for director in list(directors.a_director.unique()):\n",
    "    d = data[data.director.str.contains(director)][['imdb_id', 'director','profit']]\n",
    "    dict_df[director] = round(len(d[d.profit>0])/len(d)*100, 2)\n",
    "    \n",
    "goal_directors = ['Quentin Tarantino', 'Steven Soderbergh', 'Robert Rodriguez', 'Christopher Nolan', 'Clint Eastwood']\n",
    "k_pred = \"\"\n",
    "v_pred = 0\n",
    "for k, v in [(k, v) for k, v in dict_df.items() if k in goal_directors] :\n",
    "    print(k, v)\n",
    "    if v_pred <= v:\n",
    "        k_pred = k\n",
    "        v_pred = v\n",
    "print(\"\\nЛучшие шансы у \",k_pred, v_pred)\n",
    "\n",
    "#v2 медленно работает\n",
    "dirs = pd.DataFrame({'a_director': directors.a_director.unique()})\n",
    "print(len(dirs))\n",
    "def profit_movies_percent(director):\n",
    "    d = directors[directors.a_director==director].merge(data, on='imdb_id', how='left')\n",
    "    movie_count = len(d)\n",
    "    profit_movie_count = len(d[d.profit>0])\n",
    "    return round(profit_movie_count/movie_count*100, 2)\n",
    "dirs['profit_movies_percent'] = dirs.apply(lambda x: profit_movies_percent(x.a_director), axis=1)\n",
    "display(dirs[dirs.a_director.isin(goal_directors)].sort_values('profit_movies_percent', ascending=False))\n",
    "\n",
    "#v3 быстрый\n",
    "dirs = pd.DataFrame({'a_director': directors.a_director.unique()})\n",
    "df = directors.merge(data, on='imdb_id', how='left')\n",
    "d_movie_count = df.groupby(['a_director'])['imdb_id'].count().to_frame().reset_index(level=0).rename({'imdb_id':'movie_count'}, axis='columns')\n",
    "d_profit_movie_count = df[df.profit>0].groupby(['a_director'])['imdb_id'].count().to_frame().reset_index(level=0).rename({'imdb_id':'profit_movie_count'}, axis='columns')\n",
    "ddd = d_movie_count.merge(d_profit_movie_count, on='a_director', how='left').fillna(value={'profit_movie_count':0})\n",
    "ddd['profit_movies_percent'] = ddd['profit_movie_count'] / ddd['movie_count'] * 100\n",
    "display(ddd[ddd.a_director.isin(goal_directors)].sort_values('profit_movies_percent', ascending=False))\n",
    "\n",
    "answer_ls.append(4)"
   ]
  },
  {
   "cell_type": "markdown",
   "metadata": {},
   "source": [
    "# Submission"
   ]
  },
  {
   "cell_type": "code",
   "execution_count": 41,
   "metadata": {},
   "outputs": [
    {
     "data": {
      "text/plain": [
       "36"
      ]
     },
     "execution_count": 41,
     "metadata": {},
     "output_type": "execute_result"
    }
   ],
   "source": [
    "len(answer_ls)"
   ]
  },
  {
   "cell_type": "code",
   "execution_count": 42,
   "metadata": {},
   "outputs": [
    {
     "data": {
      "text/html": [
       "<div>\n",
       "<style scoped>\n",
       "    .dataframe tbody tr th:only-of-type {\n",
       "        vertical-align: middle;\n",
       "    }\n",
       "\n",
       "    .dataframe tbody tr th {\n",
       "        vertical-align: top;\n",
       "    }\n",
       "\n",
       "    .dataframe thead th {\n",
       "        text-align: right;\n",
       "    }\n",
       "</style>\n",
       "<table border=\"1\" class=\"dataframe\">\n",
       "  <thead>\n",
       "    <tr style=\"text-align: right;\">\n",
       "      <th></th>\n",
       "      <th>Id</th>\n",
       "      <th>Answer</th>\n",
       "    </tr>\n",
       "  </thead>\n",
       "  <tbody>\n",
       "    <tr>\n",
       "      <th>0</th>\n",
       "      <td>1</td>\n",
       "      <td>4</td>\n",
       "    </tr>\n",
       "    <tr>\n",
       "      <th>1</th>\n",
       "      <td>2</td>\n",
       "      <td>2</td>\n",
       "    </tr>\n",
       "    <tr>\n",
       "      <th>2</th>\n",
       "      <td>3</td>\n",
       "      <td>3</td>\n",
       "    </tr>\n",
       "    <tr>\n",
       "      <th>3</th>\n",
       "      <td>4</td>\n",
       "      <td>2</td>\n",
       "    </tr>\n",
       "    <tr>\n",
       "      <th>4</th>\n",
       "      <td>5</td>\n",
       "      <td>1</td>\n",
       "    </tr>\n",
       "    <tr>\n",
       "      <th>5</th>\n",
       "      <td>6</td>\n",
       "      <td>5</td>\n",
       "    </tr>\n",
       "    <tr>\n",
       "      <th>6</th>\n",
       "      <td>7</td>\n",
       "      <td>2</td>\n",
       "    </tr>\n",
       "    <tr>\n",
       "      <th>7</th>\n",
       "      <td>8</td>\n",
       "      <td>1</td>\n",
       "    </tr>\n",
       "    <tr>\n",
       "      <th>8</th>\n",
       "      <td>9</td>\n",
       "      <td>4</td>\n",
       "    </tr>\n",
       "    <tr>\n",
       "      <th>9</th>\n",
       "      <td>10</td>\n",
       "      <td>5</td>\n",
       "    </tr>\n",
       "    <tr>\n",
       "      <th>10</th>\n",
       "      <td>11</td>\n",
       "      <td>3</td>\n",
       "    </tr>\n",
       "    <tr>\n",
       "      <th>11</th>\n",
       "      <td>12</td>\n",
       "      <td>1</td>\n",
       "    </tr>\n",
       "    <tr>\n",
       "      <th>12</th>\n",
       "      <td>13</td>\n",
       "      <td>3</td>\n",
       "    </tr>\n",
       "    <tr>\n",
       "      <th>13</th>\n",
       "      <td>14</td>\n",
       "      <td>4</td>\n",
       "    </tr>\n",
       "    <tr>\n",
       "      <th>14</th>\n",
       "      <td>15</td>\n",
       "      <td>5</td>\n",
       "    </tr>\n",
       "    <tr>\n",
       "      <th>15</th>\n",
       "      <td>16</td>\n",
       "      <td>1</td>\n",
       "    </tr>\n",
       "    <tr>\n",
       "      <th>16</th>\n",
       "      <td>17</td>\n",
       "      <td>3</td>\n",
       "    </tr>\n",
       "    <tr>\n",
       "      <th>17</th>\n",
       "      <td>18</td>\n",
       "      <td>3</td>\n",
       "    </tr>\n",
       "    <tr>\n",
       "      <th>18</th>\n",
       "      <td>19</td>\n",
       "      <td>2</td>\n",
       "    </tr>\n",
       "    <tr>\n",
       "      <th>19</th>\n",
       "      <td>20</td>\n",
       "      <td>1</td>\n",
       "    </tr>\n",
       "    <tr>\n",
       "      <th>20</th>\n",
       "      <td>21</td>\n",
       "      <td>4</td>\n",
       "    </tr>\n",
       "    <tr>\n",
       "      <th>21</th>\n",
       "      <td>22</td>\n",
       "      <td>2</td>\n",
       "    </tr>\n",
       "    <tr>\n",
       "      <th>22</th>\n",
       "      <td>23</td>\n",
       "      <td>3</td>\n",
       "    </tr>\n",
       "    <tr>\n",
       "      <th>23</th>\n",
       "      <td>24</td>\n",
       "      <td>1</td>\n",
       "    </tr>\n",
       "    <tr>\n",
       "      <th>24</th>\n",
       "      <td>25</td>\n",
       "      <td>5</td>\n",
       "    </tr>\n",
       "    <tr>\n",
       "      <th>25</th>\n",
       "      <td>26</td>\n",
       "      <td>1</td>\n",
       "    </tr>\n",
       "    <tr>\n",
       "      <th>26</th>\n",
       "      <td>27</td>\n",
       "      <td>4</td>\n",
       "    </tr>\n",
       "    <tr>\n",
       "      <th>27</th>\n",
       "      <td>28</td>\n",
       "      <td>2</td>\n",
       "    </tr>\n",
       "    <tr>\n",
       "      <th>28</th>\n",
       "      <td>29</td>\n",
       "      <td>5</td>\n",
       "    </tr>\n",
       "    <tr>\n",
       "      <th>29</th>\n",
       "      <td>30</td>\n",
       "      <td>1</td>\n",
       "    </tr>\n",
       "    <tr>\n",
       "      <th>30</th>\n",
       "      <td>31</td>\n",
       "      <td>5</td>\n",
       "    </tr>\n",
       "    <tr>\n",
       "      <th>31</th>\n",
       "      <td>32</td>\n",
       "      <td>5</td>\n",
       "    </tr>\n",
       "    <tr>\n",
       "      <th>32</th>\n",
       "      <td>33</td>\n",
       "      <td>3</td>\n",
       "    </tr>\n",
       "    <tr>\n",
       "      <th>33</th>\n",
       "      <td>34</td>\n",
       "      <td>1</td>\n",
       "    </tr>\n",
       "    <tr>\n",
       "      <th>34</th>\n",
       "      <td>35</td>\n",
       "      <td>5</td>\n",
       "    </tr>\n",
       "    <tr>\n",
       "      <th>35</th>\n",
       "      <td>36</td>\n",
       "      <td>4</td>\n",
       "    </tr>\n",
       "  </tbody>\n",
       "</table>\n",
       "</div>"
      ],
      "text/plain": [
       "    Id  Answer\n",
       "0    1       4\n",
       "1    2       2\n",
       "2    3       3\n",
       "3    4       2\n",
       "4    5       1\n",
       "5    6       5\n",
       "6    7       2\n",
       "7    8       1\n",
       "8    9       4\n",
       "9   10       5\n",
       "10  11       3\n",
       "11  12       1\n",
       "12  13       3\n",
       "13  14       4\n",
       "14  15       5\n",
       "15  16       1\n",
       "16  17       3\n",
       "17  18       3\n",
       "18  19       2\n",
       "19  20       1\n",
       "20  21       4\n",
       "21  22       2\n",
       "22  23       3\n",
       "23  24       1\n",
       "24  25       5\n",
       "25  26       1\n",
       "26  27       4\n",
       "27  28       2\n",
       "28  29       5\n",
       "29  30       1\n",
       "30  31       5\n",
       "31  32       5\n",
       "32  33       3\n",
       "33  34       1\n",
       "34  35       5\n",
       "35  36       4"
      ]
     },
     "execution_count": 42,
     "metadata": {},
     "output_type": "execute_result"
    }
   ],
   "source": [
    "pd.DataFrame({'Id':range(1,len(answer_ls)+1), 'Answer':answer_ls}, columns=['Id', 'Answer'])"
   ]
  },
  {
   "cell_type": "code",
   "execution_count": null,
   "metadata": {},
   "outputs": [],
   "source": []
  }
 ],
 "metadata": {
  "kernelspec": {
   "display_name": "Python 3",
   "language": "python",
   "name": "python3"
  },
  "language_info": {
   "codemirror_mode": {
    "name": "ipython",
    "version": 3
   },
   "file_extension": ".py",
   "mimetype": "text/x-python",
   "name": "python",
   "nbconvert_exporter": "python",
   "pygments_lexer": "ipython3",
   "version": "3.7.6"
  }
 },
 "nbformat": 4,
 "nbformat_minor": 4
}
