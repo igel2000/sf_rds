{
 "cells": [
  {
   "cell_type": "markdown",
   "metadata": {},
   "source": [
    "## SkillFactory Data Science Проект 0 Быстрый старт\n",
    "\n",
    "Оценка скорости работы алгоритма поиска загаданного числа в игре \"Угадай число\"\n",
    "Запускается несколько сессий, в рамках каждой сессии запускается 1000 сеансов игр с разными загаданными числами.\n",
    "Сессии отличаются тем, каким числом инициализируется генератор случайных чисел."
   ]
  },
  {
   "cell_type": "code",
   "execution_count": 1,
   "metadata": {},
   "outputs": [
    {
     "name": "stdout",
     "output_type": "stream",
     "text": [
      "Алгоритм угадывает число от 1 до 100 в среднем за 5.818 попыток.\n",
      "random_seed = 1, статистика по количеству попыток: Counter({7: 341, 6: 326, 5: 173, 4: 75, 3: 44, 8: 18, 1: 12, 2: 11})\n",
      "\n",
      "Среднее количество попыток по всем подходам: 5.818\n"
     ]
    }
   ],
   "source": [
    "from game import score_game, game_core_v2\n",
    "\n",
    "#количество сессий\n",
    "session_count = 1\n",
    "total_score = 0\n",
    "for i in range(session_count):\n",
    "    random_seed = i+1 # номер сессии определяет как будет инициализирован генератор случайных чисел\n",
    "    total_score += score_game(game_core_v2, 1, 100, 1000, random_seed)\n",
    "print(f\"\\nСреднее количество попыток по всем подходам: {total_score / session_count}\")    "
   ]
  }
 ],
 "metadata": {
  "kernelspec": {
   "display_name": "Python 3",
   "language": "python",
   "name": "python3"
  },
  "language_info": {
   "codemirror_mode": {
    "name": "ipython",
    "version": 3
   },
   "file_extension": ".py",
   "mimetype": "text/x-python",
   "name": "python",
   "nbconvert_exporter": "python",
   "pygments_lexer": "ipython3",
   "version": "3.7.6"
  }
 },
 "nbformat": 4,
 "nbformat_minor": 4
}
