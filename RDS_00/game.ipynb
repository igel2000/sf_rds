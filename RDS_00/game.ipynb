{
 "cells": [
  {
   "cell_type": "markdown",
   "metadata": {},
   "source": [
    "## SkillFactory Data Science Проект 0 Быстрый старт\n",
    "\n",
    "Оценка скорости работы алгоритма поиска загаданного числа в игре \"Угадай число\"\n",
    "Запускается несколько сессий, в рамках каждой сессии запускается 1000 сеансов игр с разными загаданными числами.\n",
    "Сессии отличаются тем, каким числом инициализируется генератор случайных чисел."
   ]
  },
  {
   "cell_type": "code",
   "execution_count": 1,
   "metadata": {},
   "outputs": [],
   "source": [
    "import numpy as np\n",
    "import collections"
   ]
  },
  {
   "cell_type": "code",
   "execution_count": 2,
   "metadata": {},
   "outputs": [],
   "source": [
    "def game_core_v2(number, left_border, right_border):\n",
    "    '''Поиск загаданного чилас бинарным поиском (делением пополам)\n",
    "       Параметры:\n",
    "         - number  - загаданное число\n",
    "         - left_border, right_border - границы, в которых загадано число.\n",
    "       Возвращает количество сделанных ходов\n",
    "    '''\n",
    "    #счетчик попыток\n",
    "    count = 1  \n",
    "    #первая попытка предсказания - середина диапазона\n",
    "    predict = (right_border - left_border) // 2  \n",
    "    while number != predict:\n",
    "        #пока не угадали, значит будет еще одна попытка\n",
    "        count+=1\n",
    "        if number > predict:   # загаданное число больше предсказания\n",
    "            #вычислим смещение для будущего прогноза\n",
    "            a = (right_border - predict) // 2  \n",
    "            #сдвинем левую границу на предыдущий прогноз,\n",
    "            #и сделаем новый прогноз. Если посчитанное смещение \n",
    "            #было равно 0, то увеличим прогноз на 1\n",
    "            left_border, predict = predict, predict + (a if a else 1)  \n",
    "        else: \n",
    "            #вычислим смещение для будущего прогноза\n",
    "            a = (predict - left_border) // 2\n",
    "            #сдвинем правую границу на предыдущий прогноз,\n",
    "            #и сделаем новый прогноз. Если посчитанное смещение \n",
    "            #было равно 0, то уменьшим прогноз на 1\n",
    "            right_border, predict = predict, predict - (a if a else 1)\n",
    "    return(count) "
   ]
  },
  {
   "cell_type": "code",
   "execution_count": 3,
   "metadata": {},
   "outputs": [],
   "source": [
    "def score_game(game_core, left_border, right_border, size, random_seed):\n",
    "    ''' Прогнать одну сессию игры\n",
    "    В ходе сессии игра запускается size раз с разными загаданными числами.\n",
    "    По итогам запусков считается и выводится среднее число ходов, за которое угадывались числа\n",
    "    Параметры:\n",
    "      - game_core: функция, которая собственно ищет число\n",
    "      - left_border, right_border - границы, в которых загадывается число\n",
    "      - size: сколько раз прогнать игру\n",
    "      - random_seed - параметр для инициализации генератора случайных чисел для загадывания чисел\n",
    "    '''\n",
    "    count_ls = []\n",
    "    np.random.seed(random_seed)\n",
    "    random_array = np.random.randint(left_border, right_border+1, size=(size))\n",
    "    c = collections.Counter()\n",
    "    for number in random_array:\n",
    "        t = game_core(number, left_border, right_border)\n",
    "        count_ls.append(t)\n",
    "        c[t] += 1\n",
    "    score = np.mean(count_ls)\n",
    "    print(f\"Алгоритм угадывает число от {left_border} до {right_border} в среднем за {score} попыток.\")\n",
    "    print(f\"random_seed = {random_seed}, статистика по количеству попыток: {c}\")\n",
    "    return(score)"
   ]
  },
  {
   "cell_type": "code",
   "execution_count": 4,
   "metadata": {},
   "outputs": [
    {
     "name": "stdout",
     "output_type": "stream",
     "text": [
      "Алгоритм угадывает число от 1 до 100 в среднем за 5.818 попыток.\n",
      "random_seed = 1, статистика по количеству попыток: Counter({7: 341, 6: 326, 5: 173, 4: 75, 3: 44, 8: 18, 1: 12, 2: 11})\n",
      "Среднее количество попыток по всем подходам: 5.818\n"
     ]
    }
   ],
   "source": [
    "#количество сессий\n",
    "game_count = 1\n",
    "total_score = 0\n",
    "for i in range(game_count):\n",
    "    random_seed = i+1 # номер сессии определяет как будет инициализирован генератор случайных чисел\n",
    "    total_score += score_game(game_core_v2, 1, 100, 1000, random_seed)\n",
    "print(f\"Среднее количество попыток по всем подходам: {total_score / game_count}\")    "
   ]
  }
 ],
 "metadata": {
  "kernelspec": {
   "display_name": "Python 3",
   "language": "python",
   "name": "python3"
  },
  "language_info": {
   "codemirror_mode": {
    "name": "ipython",
    "version": 3
   },
   "file_extension": ".py",
   "mimetype": "text/x-python",
   "name": "python",
   "nbconvert_exporter": "python",
   "pygments_lexer": "ipython3",
   "version": "3.7.6"
  }
 },
 "nbformat": 4,
 "nbformat_minor": 4
}
